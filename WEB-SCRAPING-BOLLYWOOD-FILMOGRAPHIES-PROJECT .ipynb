{
 "cells": [
  {
   "cell_type": "markdown",
   "metadata": {
    "id": "G9tQu5Fn08Gi"
   },
   "source": [
    "# WEB- SCRAPING - BOLLYWOOD - FILMOGRAPHIES - PROJECT\n",
    "\n",
    " \n",
    "Data Source :[Bollywood Filmography](https://en.wikipedia.org/wiki/Category:Indian_filmographies)\n",
    "![](https://www.studytonight.com/python/web-scraping/images/web-scraping-course.jpg)"
   ]
  },
  {
   "cell_type": "markdown",
   "metadata": {
    "id": "Wdi4atnh08Gl"
   },
   "source": [
    "## Let's see what is web-scraping\n",
    " - **Web scraping** is the process of collecting structured web data in an automated fashion. It's also called web data extraction. ... In general, web data extraction is used by people and businesses who want to make use of the vast amount of publicly available web data to make smarter decisions.\n",
    "\n",
    "\n",
    "## How does web scraping works\n",
    "- Identify the target website.\n",
    "- Collect URLs of the pages where you want to extract data from.\n",
    "- Make a request to these URLs to get the HTML of the page.\n",
    "- Use locators to find the data in the HTML.\n",
    "- Save the data in a JSON or CSV file or some other structured format.\n",
    "![](https://www.webharvy.com/images/web%20scraping.png)"
   ]
  },
  {
   "cell_type": "markdown",
   "metadata": {
    "id": "iHaB0xX408Gm"
   },
   "source": [
    "## About Filmograpgy\n",
    "- A filmography is a list of films related by some criteria. For example, an actor's career filmography is the list of films they have appeared in; a director's comedy filmography is the list of comedy films directed by a particular director. The term, which has been in use since at least 1957.\n",
    "\n",
    "\n",
    "\n",
    "\n",
    "\n",
    "![](https://1.bp.blogspot.com/-rDT18tMdEAY/YFcFTbmnDAI/AAAAAAAAWhE/CimiIVZ19BYdtcV_gfvHd4I4te9kE8COgCLcBGAsYHQ/s1280/All%2BActors%2BBollywood%2BLyricist%2BWeb.jpg)"
   ]
  },
  {
   "cell_type": "markdown",
   "metadata": {
    "id": "qnZiuQVv08Gn"
   },
   "source": [
    "## Project Idea\n",
    "\n",
    "In this Project I will parse through the Actors and Actresses of the Bollywood.\n",
    "\n",
    "\n",
    "I will retrieve information from the page [Bollywood Filmography](https://en.wikipedia.org/wiki/Category:Indian_filmographies) using **web scraping**."
   ]
  },
  {
   "cell_type": "markdown",
   "metadata": {
    "id": "CUcYxVbH08Go"
   },
   "source": [
    "## Project Goal \n",
    "The project goal is to build a web scraper that withdraws all desirable information and assemble them into a single CSV. The format of the output CSV file is shown below:\n",
    "\n",
    "\n",
    "|#|Actor/Actress Name|Profiles_urls                                         | Images_url\n",
    "|-|------------------|------------------------------------------------------|---------------|\n",
    "|0|John Abraham     |https://en.wikipedia.org/wiki/|https://en.wikipedia.org/wiki/\n",
    "|1|Kajal Agarwal    |https://en.wikipedia.org/wiki/|https://en.wikipedia.org/wiki/\n",
    "|187|Prithviraj Sukumaran filmography|https://en.wikipedia.org/wiki/|https://en.wikipedia.org/wiki/\n",
    "\n",
    "\n",
    "\n",
    "|#|Year              |Title                                     | Role | Actor/Actress name\n",
    "|-|------------------|------------------------------------------------------|---------------|------------|\n",
    "|0|2003              |Jism                                      |Kabir lal |John Abraham\n",
    "|1|2003              |Saaya                                     |Dr.Akash \"Akki\" Bhatnagar |John Abraham\n",
    "|223|2015-2016       |Daar Sabko Lagta hai                      |Host/presenter | Bipasha Basu"
   ]
  },
  {
   "cell_type": "markdown",
   "metadata": {
    "id": "j0UtTXsC08Gq"
   },
   "source": [
    "## Project Steps \n",
    "The outline of the projet:\n",
    "\n",
    "1. Download the webpage using `requests`\n",
    "2. Parse the HTML source code using `BeautifulSoup` library and extract the desired infromation\n",
    "3. Building the scraper components\n",
    "4. Compile the extracted information into Python list and dictionaries\n",
    "5. Converting the python dictionaries into `Pandas DataFrames`\n",
    "5. Write information to the final CSV file\n",
    "7. Future work and references\n"
   ]
  },
  {
   "cell_type": "markdown",
   "metadata": {
    "id": "GPEnt61L08Gr"
   },
   "source": [
    ">## Packages Used:\n",
    ">1. Requests — For downloading the HTML code from the IMDB URL\n",
    ">2. BeautifulSoup4 — For parsing and extracting data from the HTML string\n",
    ">3. Pandas — to gather my data into a dataframe for further processing"
   ]
  },
  {
   "cell_type": "markdown",
   "metadata": {
    "id": "oCU-FGmP08Gs"
   },
   "source": [
    "## How to run the code\n",
    "\n",
    "This tutorial is an executable [Jupyter notebook](https://jupyter.org) hosted on [Jovian](https://www.jovian.ai). You can _run_ this tutorial and experiment with the code examples in a couple of ways: *using free online resources* (recommended) or *on your computer*.\n",
    "\n",
    "\n",
    "### Option 1: Running using free online resources (1-click, recommended)\n",
    "The easiest way to start executing the code is to click the **Run** button at the top of this page and select **Run on Binder**. You can also select \"Run on Colab\" or \"Run on Kaggle\", but you'll need to create an account on [Google Colab](https://colab.research.google.com) or [Kaggle](https://kaggle.com) to use these platforms.\n",
    "\n",
    "### Option 2: Running on your computer locally\n",
    "To run the code on your computer locally, you'll need to set up [Python](https://www.python.org), download the notebook and install the required libraries. We recommend using the [Conda](https://docs.conda.io/projects/conda/en/latest/user-guide/install/) distribution of Python. Click the **Run** button at the top of this page, select the **Run Locally** option, and follow the instructions.\n",
    "\n",
    ">>**Jupyter Notebooks**: This tutorial is a [Jupyter notebook](https://jupyter.org) - a document made of cells. Each cell can contain code written in Python or explanations in plain English. You can execute code cells and view the results, e.g., numbers, messages, graphs, tables, files, etc., instantly within the notebook. Jupyter is a powerful platform for experimentation and analysis. Don't be afraid to mess around with the code & break things - you'll learn a lot by encountering and fixing errors. You can use the \"Kernel > Restart & Clear Output\" menu option to clear all outputs and start again from the top."
   ]
  },
  {
   "cell_type": "markdown",
   "metadata": {
    "id": "vBsLxahT08Gt"
   },
   "source": [
    "# Let's Start the Project :\n",
    "\n",
    "\n",
    "\n",
    ">>Note : We will use the `Jovian` library and its `commit()` function throughout the code to save our progress as we move along."
   ]
  },
  {
   "cell_type": "code",
   "execution_count": 1,
   "metadata": {
    "colab": {
     "base_uri": "https://localhost:8080/",
     "height": 88
    },
    "executionInfo": {
     "elapsed": 6594,
     "status": "ok",
     "timestamp": 1639534043223,
     "user": {
      "displayName": "Deepak Kumawat",
      "photoUrl": "https://lh3.googleusercontent.com/a-/AOh14GjWvVbteMJf6tR917x-BDExzLjugHhdP8hQfYYi=s64",
      "userId": "12517487088939153246"
     },
     "user_tz": -330
    },
    "id": "KEoPyaH308Gt",
    "outputId": "23e10aab-1b63-4ef8-f796-8d527089159e"
   },
   "outputs": [
    {
     "data": {
      "application/javascript": [
       "window.require && require([\"base/js/namespace\"],function(Jupyter){Jupyter.notebook.save_checkpoint()})"
      ],
      "text/plain": [
       "<IPython.core.display.Javascript object>"
      ]
     },
     "metadata": {},
     "output_type": "display_data"
    },
    {
     "name": "stdout",
     "output_type": "stream",
     "text": [
      "[jovian] Updating notebook \"deepakkumawat2120/web-scraping-bollywood-filmographies-project\" on https://jovian.ai\u001b[0m\n",
      "[jovian] Committed successfully! https://jovian.ai/deepakkumawat2120/web-scraping-bollywood-filmographies-project\u001b[0m\n"
     ]
    },
    {
     "data": {
      "text/plain": [
       "'https://jovian.ai/deepakkumawat2120/web-scraping-bollywood-filmographies-project'"
      ]
     },
     "execution_count": 1,
     "metadata": {},
     "output_type": "execute_result"
    }
   ],
   "source": [
    "!pip install jovian --upgrade --quiet\n",
    "import jovian\n",
    "# Execute this to save new versions of the notebook\n",
    "jovian.commit(project=\"WEB- SCRAPING - BOLLYWOOD - FILMOGRAPHIES - PROJECT\")"
   ]
  },
  {
   "cell_type": "markdown",
   "metadata": {
    "id": "V4SBgUgf08Gv"
   },
   "source": [
    "## Download the webpage using `requests`"
   ]
  },
  {
   "cell_type": "markdown",
   "metadata": {
    "id": "DccUsvBk08Gv"
   },
   "source": [
    ">The requests module allows you to send HTTP requests using Python.\n",
    ">The HTTP request returns a Response Object with all the response data (content, encoding, status, etc).\n",
    "\n",
    "\n",
    "\n",
    "\n",
    ">We use `pip`, a package-management system, to install and manage softwares. Since the platform we selected is **Binder**, we would have to type a line of code `!pip install` to install `requests`. You will see lots codes of `!pip` when installing other packages.\n",
    "\n",
    "\n",
    "\n",
    ">When we attempt to use some prewritten functions from a certain library, we would use the `import` statement. e.g. When we would have to type `import requests` after installation, we are able to use any function from `requests` library."
   ]
  },
  {
   "cell_type": "code",
   "execution_count": 2,
   "metadata": {
    "executionInfo": {
     "elapsed": 3547,
     "status": "ok",
     "timestamp": 1639534146691,
     "user": {
      "displayName": "Deepak Kumawat",
      "photoUrl": "https://lh3.googleusercontent.com/a-/AOh14GjWvVbteMJf6tR917x-BDExzLjugHhdP8hQfYYi=s64",
      "userId": "12517487088939153246"
     },
     "user_tz": -330
    },
    "id": "tp_FP1SB08Gw"
   },
   "outputs": [],
   "source": [
    "!pip install requests --upgrade  --quiet \n",
    "import requests"
   ]
  },
  {
   "cell_type": "markdown",
   "metadata": {
    "id": "h2r58bas08Gw"
   },
   "source": [
    "## **requests.get()**\n",
    "\n",
    "In order to **download a web page**, we use `requests.get()` to **send the HTTP request** to the **FILMOGRAPHIES SERVER** and what the function returns is a **response object**, which is **the HTTP response**. "
   ]
  },
  {
   "cell_type": "markdown",
   "metadata": {
    "id": "Ajma2Tty08Gw"
   },
   "source": [
    "![](https://nimbus-screenshots.s3.amazonaws.com/s/0734f0696813fdf86885d92ab8455334.png)"
   ]
  },
  {
   "cell_type": "code",
   "execution_count": 3,
   "metadata": {
    "id": "AsG0PNAw08Gx"
   },
   "outputs": [],
   "source": [
    "Filmography_url = 'https://en.wikipedia.org/wiki/Category:Indian_filmographies'\n",
    "response = requests.get(Filmography_url)"
   ]
  },
  {
   "cell_type": "markdown",
   "metadata": {
    "id": "TKxc-lyu08Gx"
   },
   "source": [
    "## Status Code\n",
    "\n",
    "\n",
    "Now, we have to check if we succesfully send the HTTP request and get a HTTP response back on purpose. This is because we're NOT using browsers, because of which we can't get the feedback directly if we didn't send HTTP requests successfully.\n",
    "\n",
    "In general, the method to check out if the server sended a HTTP response back is the status code. In requests library, requests.get returns a response object, which containing the page contents and the information about status code indicating if the HTTP request was successful. Learn more about HTTP status codes here: https://developer.mozilla.org/en-US/docs/Web/HTTP/Status.\n",
    "\n",
    "If the request was successful, response.status_code is set to a value between 200 and 299."
   ]
  },
  {
   "cell_type": "code",
   "execution_count": 4,
   "metadata": {
    "id": "NvOzCkDH08Gx",
    "outputId": "e3c35221-71a8-4cb1-d177-b61bb8e88f1f"
   },
   "outputs": [
    {
     "data": {
      "text/plain": [
       "200"
      ]
     },
     "execution_count": 4,
     "metadata": {},
     "output_type": "execute_result"
    }
   ],
   "source": [
    "response.status_code    #Here we are checking the Status code, -> 200-299 will mean that the request was successful"
   ]
  },
  {
   "cell_type": "markdown",
   "metadata": {
    "id": "JUm3rgpK08Gy"
   },
   "source": [
    "The HTTP response contains HTML that is ready to be displayed in browser. Here we can use `response.text` to retrive the HTML document."
   ]
  },
  {
   "cell_type": "code",
   "execution_count": 5,
   "metadata": {
    "id": "EHC3AczS08Gy",
    "outputId": "d16e54ec-de1d-41b4-bdf9-e07b6396c8ff"
   },
   "outputs": [
    {
     "data": {
      "text/plain": [
       "60002"
      ]
     },
     "execution_count": 5,
     "metadata": {},
     "output_type": "execute_result"
    }
   ],
   "source": [
    "page_contents = response.text\n",
    "len(page_contents)    #The `len` fucnction tells us the length of the response object"
   ]
  },
  {
   "cell_type": "markdown",
   "metadata": {
    "id": "VzYyjx_s08Gz"
   },
   "source": [
    "We have 57476 characters in the the HTML that we have just downloaded in a second"
   ]
  },
  {
   "cell_type": "code",
   "execution_count": 6,
   "metadata": {
    "id": "RPPYxDig08Gz",
    "outputId": "11d6d63c-231b-4813-d686-0e243ef045f1"
   },
   "outputs": [
    {
     "data": {
      "text/plain": [
       "'<!DOCTYPE html>\\n<html class=\"client-nojs\" lang=\"en\" dir=\"ltr\">\\n<head>\\n<meta charset=\"UTF-8\"/>\\n<title>Category:Indian filmographies - Wikipedia</title>\\n<script>document.documentElement.className=\"client-js\";RLCONF={\"wgBreakFrames\":false,\"wgSeparatorTransformTable\":[\"\",\"\"],\"wgDigitTransformTable\":[\"\",\"\"],\"wgDefaultDateFormat\":\"dmy\",\"wgMonthNames\":[\"\",\"January\",\"February\",\"March\",\"April\",\"May\",\"June\",\"July\",\"August\",\"September\",\"October\",\"November\",\"December\"],\"wgRequestId\":\"ab565daa-d678-4a5e-be05-463a6fcf1a18\",\"wgCSPNonce\":false,\"wgCanonicalNamespace\":\"Category\",\"wgCanonicalSpecialPageName\":false,\"wgNamespaceNumber\":14,\"wgPageName\":\"Category:Indian_filmographies\",\"wgTitle\":\"Indian filmographies\",\"wgCurRevisionId\":950929752,\"wgRevisionId\":950929752,\"wgArticleId\":38075388,\"wgIsArticle\":true,\"wgIsRedirect\":false,\"wgAction\":\"view\",\"wgUserName\":null,\"wgUserGroups\":[\"*\"],\"wgCategories\":[\"Template Category TOC via CatAutoTOC on category with 201–300 pages\",\"CatAutoTOC generates standard Catego'"
      ]
     },
     "execution_count": 6,
     "metadata": {},
     "output_type": "execute_result"
    }
   ],
   "source": [
    "page_contents[:1000]    #This displays the first 1000 characters of `page_contents`"
   ]
  },
  {
   "cell_type": "markdown",
   "metadata": {
    "id": "VDHxWAUC08G1"
   },
   "source": [
    "- What we see above is the source code of the web page. It is written in a language called HTML. \n",
    "- It defines and display the content and structure of the web page by the help of the browsers like Chrome"
   ]
  },
  {
   "cell_type": "code",
   "execution_count": 7,
   "metadata": {
    "id": "6mRvnh-A08G1"
   },
   "outputs": [],
   "source": [
    "with open('webpage.html','w') as f:  #Writing the html page to a file locally, i.e. a copy of real html page\n",
    "    f.write(page_contents)"
   ]
  },
  {
   "cell_type": "markdown",
   "metadata": {
    "id": "SpaFCHGK08G2"
   },
   "source": [
    "Here, we save the text that we have got into a `HTML` file with `open` statement.\n",
    "\n",
    "Now, a HTML File is created by the name `WEB-SCRAPING-BOLLYWOOD-FILMOGRAPHIES-PROJECT.html`"
   ]
  },
  {
   "cell_type": "markdown",
   "metadata": {
    "id": "4y0aALHf08G2"
   },
   "source": [
    "![](https://nimbus-screenshots.s3.amazonaws.com/s/a51a561ef65a84cc65fbde63b2ab53fe.png)"
   ]
  },
  {
   "cell_type": "code",
   "execution_count": 8,
   "metadata": {
    "id": "ioSdMUBY08G2",
    "outputId": "b9eaa8f8-f352-4aba-b25a-fdeac0425bca",
    "scrolled": true
   },
   "outputs": [
    {
     "data": {
      "application/javascript": [
       "window.require && require([\"base/js/namespace\"],function(Jupyter){Jupyter.notebook.save_checkpoint()})"
      ],
      "text/plain": [
       "<IPython.core.display.Javascript object>"
      ]
     },
     "metadata": {},
     "output_type": "display_data"
    },
    {
     "name": "stdout",
     "output_type": "stream",
     "text": [
      "[jovian] Updating notebook \"deepakkumawat2120/web-scraping-bollywood-filmographies-project\" on https://jovian.ai\u001b[0m\n",
      "[jovian] Committed successfully! https://jovian.ai/deepakkumawat2120/web-scraping-bollywood-filmographies-project\u001b[0m\n"
     ]
    },
    {
     "data": {
      "text/plain": [
       "'https://jovian.ai/deepakkumawat2120/web-scraping-bollywood-filmographies-project'"
      ]
     },
     "execution_count": 8,
     "metadata": {},
     "output_type": "execute_result"
    }
   ],
   "source": [
    "jovian.commit() #Saving the work done till now"
   ]
  },
  {
   "cell_type": "markdown",
   "metadata": {
    "id": "p88ILeDI08G3"
   },
   "source": [
    "# Parse the HTML source code using Beautiful Soup library\n"
   ]
  },
  {
   "cell_type": "markdown",
   "metadata": {
    "id": "RWKPYHrk08G3"
   },
   "source": [
    "<img src=\"https://cdn.analyticsvidhya.com/wp-content/uploads/2021/04/56856232112.png\" width=\"500\" height=\"240\" align=\"centre\"/>"
   ]
  },
  {
   "cell_type": "markdown",
   "metadata": {
    "id": "FT76F7Eg08G3"
   },
   "source": [
    ">### What is Beautiful Soup?\n",
    "\n",
    ">Beautiful Soup is **a Python package** for **parsing HTML and XML documents**. Beautiful Soup enables us to get data out of sequences of characters. It creates a parse tree for parsed pages that can be used to extract data from HTML. It's a handy tool when it comes to web scraping. You can read more on their documentation site. https://www.crummy.com/software/BeautifulSoup/bs4/doc/#getting-help\n",
    "\n",
    ">To extract information from the HTML source code of a webpage programmatically, we can use the Beautiful Soup library. Let's install the library and import **the BeautifulSoup class** from **the bs4 module.**"
   ]
  },
  {
   "cell_type": "code",
   "execution_count": 9,
   "metadata": {
    "id": "FkRFHdqp08G3"
   },
   "outputs": [],
   "source": [
    "!pip install beautifulsoup4 --upgrade  --quiet \n",
    "from bs4 import BeautifulSoup\n",
    "doc = BeautifulSoup(page_contents, 'html.parser')  #Now 'doc' contains entire html in parsed format"
   ]
  },
  {
   "cell_type": "code",
   "execution_count": 10,
   "metadata": {
    "id": "jSq2ug5R08G4",
    "outputId": "b593f8ff-5642-4b4e-a868-d552631ea0b6",
    "scrolled": true
   },
   "outputs": [
    {
     "data": {
      "text/plain": [
       "bs4.BeautifulSoup"
      ]
     },
     "execution_count": 10,
     "metadata": {},
     "output_type": "execute_result"
    }
   ],
   "source": [
    "type(doc)"
   ]
  },
  {
   "cell_type": "markdown",
   "metadata": {
    "id": "RwbmB3Md08G4"
   },
   "source": [
    "## Inspecting the HTML source code of a web page\n",
    "\n"
   ]
  },
  {
   "cell_type": "markdown",
   "metadata": {
    "id": "fjV1AH9w08G4"
   },
   "source": [
    ">In Beautiful Soup library, we can specify `html.parser` to ask Python to read components of the page, instead of reading it as a long string. \n",
    "\n",
    ">we should know the basic knowledge about HTML, before moving further for the project.\n",
    "\n",
    ">HyperText Markup Language (HTML) is the set of markup symbols or codes inserted into a file intended for display on the Internet. The markup tells web browsers how to display a web page's words and images."
   ]
  },
  {
   "cell_type": "markdown",
   "metadata": {
    "id": "hJ4Ie51_08G4"
   },
   "source": [
    "![](https://www.softwaretestinghelp.com/wp-content/qa/uploads/2020/12/html-code.jpg)"
   ]
  },
  {
   "cell_type": "markdown",
   "metadata": {
    "id": "gopP0rxk08G5"
   },
   "source": [
    "## **An HTML tag comprises of three parts:**\n",
    "\n",
    "1. **Name**: (`html`, `head`, `body`, `div`, etc.) Indicates what the tag represents and how a browser should interpret the information inside it.\n",
    "2. **Attributes**: (`href`, `target`, `class`, `id`, etc.) Properties of tag used by the browser to customize how a tag is displayed and decide what happens on user interactions.\n",
    "3. **Children**: A tag can contain some text or other tags or both between the opening and closing segments, e.g., `<div>Some content</div>`.\n",
    "\n",
    "\n",
    "## Common Tags and Attributes\n",
    "\n",
    "Following are some of the most commonly used HTML tags:\n",
    "\n",
    "* `html`\n",
    "* `head`\n",
    "* `title`\n",
    "* `body`\n",
    "* `div`\n",
    "* `span`\n",
    "* `h1` to `h6`\n",
    "* `p`\n",
    "* `img`\n",
    "* `ul`, `ol` and `li`\n",
    "* `table`, `tr`, `th` and `td`\n",
    "* `style`\n",
    "* ...\n",
    "\n",
    "Each tag supports several attributes. Following are some common attributes used to modify the behavior of tags:\n",
    "\n",
    "* `id`\n",
    "* `style`\n",
    "* `class`\n",
    "* `href` (used with `<a>`)\n",
    "* `src` (used with `<img>`)\n"
   ]
  },
  {
   "cell_type": "markdown",
   "metadata": {
    "id": "4epPsaHi08G5"
   },
   "source": [
    "What we can do with **a BeautifulSoup object** is to get **a specifc types of a tag in HTML** by calling the name of a tag, as shown in code cell below.\n",
    "\n",
    "Here, we use the find() function of BeautifulSoup to find the first <title> tag in the HTML document and display its content"
   ]
  },
  {
   "cell_type": "code",
   "execution_count": 11,
   "metadata": {
    "id": "_oh8d4q108G5",
    "outputId": "532d892e-c5a3-4171-c540-dd89aefebdb0"
   },
   "outputs": [
    {
     "data": {
      "text/plain": [
       "<title>Category:Indian filmographies - Wikipedia</title>"
      ]
     },
     "execution_count": 11,
     "metadata": {},
     "output_type": "execute_result"
    }
   ],
   "source": [
    "title = doc.find('title')\n",
    "title"
   ]
  },
  {
   "cell_type": "markdown",
   "metadata": {
    "id": "7jYSgrkz08G6"
   },
   "source": [
    "## Inspecting HTML in the Browser\n",
    "\n",
    ">To view the **source code** of any webpage right within **your browser**, you can **right click** anywhere on a page and **select** the **\"Inspect\"** option. You access the **\"Developer Tools\"** mode, where you can see the source code as **a tree**. You can expand and collapse various nodes and find the source code for a specific portion of the page.\n",
    "\n"
   ]
  },
  {
   "cell_type": "markdown",
   "metadata": {
    "id": "2I-eKr8208G6"
   },
   "source": [
    "## Actors/Actress Name"
   ]
  },
  {
   "cell_type": "markdown",
   "metadata": {
    "id": "qmHMJ-uP08G6"
   },
   "source": [
    "![](https://nimbusweb.me/nimbus-screenshots/bcd87344895ebe660af3385470e3006a)"
   ]
  },
  {
   "cell_type": "markdown",
   "metadata": {
    "id": "Qf3k4APc08G6"
   },
   "source": [
    "![](https://nimbus-screenshots.s3.amazonaws.com/s/7082b6ef9577ad635dd662e80eae01df.png)"
   ]
  },
  {
   "cell_type": "code",
   "execution_count": 12,
   "metadata": {
    "id": "p7ILBmz908G6"
   },
   "outputs": [],
   "source": [
    "# here we get all the anchor tags from HTML page in the class external text\n",
    "contents_a_tags = doc.find_all('a',{'class':'external text'})"
   ]
  },
  {
   "cell_type": "code",
   "execution_count": 13,
   "metadata": {
    "id": "QeFL7Clt08G8",
    "outputId": "585737c9-554b-40f2-8218-7d3254d1f32e"
   },
   "outputs": [
    {
     "data": {
      "text/plain": [
       "28"
      ]
     },
     "execution_count": 13,
     "metadata": {},
     "output_type": "execute_result"
    }
   ],
   "source": [
    "len(contents_a_tags) # we will get the length of contents_a_tags"
   ]
  },
  {
   "cell_type": "code",
   "execution_count": 14,
   "metadata": {
    "id": "MMJk7OLF08G8",
    "outputId": "5fd4e5cc-00fe-42c1-a467-766acc5cd73e"
   },
   "outputs": [
    {
     "data": {
      "text/plain": [
       "[<a class=\"external text\" href=\"https://en.wikipedia.org/wiki/Category:Indian_filmographies\">Top</a>,\n",
       " <a class=\"external text\" href=\"https://en.wikipedia.org/w/index.php?title=Category:Indian_filmographies&amp;from=0\">0–9</a>,\n",
       " <a class=\"external text\" href=\"https://en.wikipedia.org/w/index.php?title=Category:Indian_filmographies&amp;from=A\">A</a>,\n",
       " <a class=\"external text\" href=\"https://en.wikipedia.org/w/index.php?title=Category:Indian_filmographies&amp;from=B\">B</a>,\n",
       " <a class=\"external text\" href=\"https://en.wikipedia.org/w/index.php?title=Category:Indian_filmographies&amp;from=C\">C</a>,\n",
       " <a class=\"external text\" href=\"https://en.wikipedia.org/w/index.php?title=Category:Indian_filmographies&amp;from=D\">D</a>,\n",
       " <a class=\"external text\" href=\"https://en.wikipedia.org/w/index.php?title=Category:Indian_filmographies&amp;from=E\">E</a>,\n",
       " <a class=\"external text\" href=\"https://en.wikipedia.org/w/index.php?title=Category:Indian_filmographies&amp;from=F\">F</a>,\n",
       " <a class=\"external text\" href=\"https://en.wikipedia.org/w/index.php?title=Category:Indian_filmographies&amp;from=G\">G</a>,\n",
       " <a class=\"external text\" href=\"https://en.wikipedia.org/w/index.php?title=Category:Indian_filmographies&amp;from=H\">H</a>,\n",
       " <a class=\"external text\" href=\"https://en.wikipedia.org/w/index.php?title=Category:Indian_filmographies&amp;from=I\">I</a>,\n",
       " <a class=\"external text\" href=\"https://en.wikipedia.org/w/index.php?title=Category:Indian_filmographies&amp;from=J\">J</a>,\n",
       " <a class=\"external text\" href=\"https://en.wikipedia.org/w/index.php?title=Category:Indian_filmographies&amp;from=K\">K</a>,\n",
       " <a class=\"external text\" href=\"https://en.wikipedia.org/w/index.php?title=Category:Indian_filmographies&amp;from=L\">L</a>,\n",
       " <a class=\"external text\" href=\"https://en.wikipedia.org/w/index.php?title=Category:Indian_filmographies&amp;from=M\">M</a>,\n",
       " <a class=\"external text\" href=\"https://en.wikipedia.org/w/index.php?title=Category:Indian_filmographies&amp;from=N\">N</a>,\n",
       " <a class=\"external text\" href=\"https://en.wikipedia.org/w/index.php?title=Category:Indian_filmographies&amp;from=O\">O</a>,\n",
       " <a class=\"external text\" href=\"https://en.wikipedia.org/w/index.php?title=Category:Indian_filmographies&amp;from=P\">P</a>,\n",
       " <a class=\"external text\" href=\"https://en.wikipedia.org/w/index.php?title=Category:Indian_filmographies&amp;from=Q\">Q</a>,\n",
       " <a class=\"external text\" href=\"https://en.wikipedia.org/w/index.php?title=Category:Indian_filmographies&amp;from=R\">R</a>,\n",
       " <a class=\"external text\" href=\"https://en.wikipedia.org/w/index.php?title=Category:Indian_filmographies&amp;from=S\">S</a>,\n",
       " <a class=\"external text\" href=\"https://en.wikipedia.org/w/index.php?title=Category:Indian_filmographies&amp;from=T\">T</a>,\n",
       " <a class=\"external text\" href=\"https://en.wikipedia.org/w/index.php?title=Category:Indian_filmographies&amp;from=U\">U</a>,\n",
       " <a class=\"external text\" href=\"https://en.wikipedia.org/w/index.php?title=Category:Indian_filmographies&amp;from=V\">V</a>,\n",
       " <a class=\"external text\" href=\"https://en.wikipedia.org/w/index.php?title=Category:Indian_filmographies&amp;from=W\">W</a>,\n",
       " <a class=\"external text\" href=\"https://en.wikipedia.org/w/index.php?title=Category:Indian_filmographies&amp;from=X\">X</a>,\n",
       " <a class=\"external text\" href=\"https://en.wikipedia.org/w/index.php?title=Category:Indian_filmographies&amp;from=Y\">Y</a>,\n",
       " <a class=\"external text\" href=\"https://en.wikipedia.org/w/index.php?title=Category:Indian_filmographies&amp;from=Z\">Z</a>]"
      ]
     },
     "execution_count": 14,
     "metadata": {},
     "output_type": "execute_result"
    }
   ],
   "source": [
    "contents_a_tags"
   ]
  },
  {
   "cell_type": "markdown",
   "metadata": {
    "id": "_AB55nUX08G9"
   },
   "source": [
    "## Now we will use `BeautifulSoup` to extract the `Names` , `URLs` and `Images` from the HTML Page "
   ]
  },
  {
   "cell_type": "markdown",
   "metadata": {
    "id": "q3cdhIiu08G9"
   },
   "source": [
    "### Filmography Name"
   ]
  },
  {
   "cell_type": "code",
   "execution_count": 15,
   "metadata": {
    "code_folding": [],
    "id": "huR67uAJ08G9",
    "outputId": "3db1e2b6-f35b-4a39-94c7-99897a7809c8"
   },
   "outputs": [
    {
     "data": {
      "text/plain": [
       "255"
      ]
     },
     "execution_count": 15,
     "metadata": {},
     "output_type": "execute_result"
    }
   ],
   "source": [
    "# This is to get the name of actors/actress.\n",
    "\n",
    "a_tags = doc.find_all('a',{'class': None})\n",
    "len(a_tags)"
   ]
  },
  {
   "cell_type": "code",
   "execution_count": 16,
   "metadata": {
    "id": "hA_5xJC308G-",
    "outputId": "a381b3a6-4757-43c5-9640-fb9e736abb1e",
    "scrolled": true
   },
   "outputs": [
    {
     "data": {
      "text/plain": [
       "['John Abraham ',\n",
       " 'Kajal Aggarwal ',\n",
       " 'Samantha Ruth Prabhu ',\n",
       " 'Ali ',\n",
       " 'Zeenat Aman ']"
      ]
     },
     "execution_count": 16,
     "metadata": {},
     "output_type": "execute_result"
    }
   ],
   "source": [
    "titles_a_tag = []\n",
    "for tag in a_tags:\n",
    "    if 'filmography' in tag.text:\n",
    "        titles_a_tag.append(tag['title'].replace('filmography',''))\n",
    "titles_a_tag[:5]"
   ]
  },
  {
   "cell_type": "markdown",
   "metadata": {
    "id": "BIZ1iwBc08G-"
   },
   "source": [
    "### Filmography URL's"
   ]
  },
  {
   "cell_type": "code",
   "execution_count": 17,
   "metadata": {
    "id": "CGOyNa7W08G-",
    "outputId": "58b281a6-4b81-4d76-eca7-ce9d717ee8e7"
   },
   "outputs": [
    {
     "data": {
      "text/plain": [
       "['/wiki/John_Abraham_filmography',\n",
       " '/wiki/Kajal_Aggarwal_filmography',\n",
       " '/wiki/Samantha_Ruth_Prabhu_filmography',\n",
       " '/wiki/Ali_filmography',\n",
       " '/wiki/Zeenat_Aman_filmography',\n",
       " '/wiki/Ambareesh_filmography',\n",
       " '/wiki/Dev_Anand_filmography',\n",
       " '/wiki/Anil_Panachooran_filmography',\n",
       " '/wiki/Ramesh_Aravind_filmography',\n",
       " '/wiki/Allu_Arjun_filmography']"
      ]
     },
     "execution_count": 17,
     "metadata": {},
     "output_type": "execute_result"
    }
   ],
   "source": [
    "# Now we need to fetch the URL's of all the filmographies\n",
    "# I have taken all the filmographies url which has \"filmography\" in all of them.\n",
    "link_a_tag = []\n",
    "for tag in a_tags:\n",
    "    if 'filmography' in tag.text:\n",
    "        link_a_tag.append(tag['href'])\n",
    "link_a_tag[:10]"
   ]
  },
  {
   "cell_type": "code",
   "execution_count": 18,
   "metadata": {
    "id": "p3eZVYLB08G-",
    "outputId": "524699ae-c018-4bc3-d60a-ddb47570d9e9"
   },
   "outputs": [
    {
     "data": {
      "text/plain": [
       "'https://en.wikipedia.org//wiki/John_Abraham_filmography'"
      ]
     },
     "execution_count": 18,
     "metadata": {},
     "output_type": "execute_result"
    }
   ],
   "source": [
    "# To get the full link we need to give the \"Base URL\" which is given below\n",
    "Filmography0_url = \"https://en.wikipedia.org/\"+ link_a_tag[0]\n",
    "Filmography0_url # This is the first URl."
   ]
  },
  {
   "cell_type": "code",
   "execution_count": 19,
   "metadata": {
    "id": "pJz6M12f08G_",
    "outputId": "73e04f7c-1a77-4d10-c41b-a6eb939d65cb"
   },
   "outputs": [
    {
     "data": {
      "text/plain": [
       "['https://en.wikipedia.org//wiki/John_Abraham_filmography',\n",
       " 'https://en.wikipedia.org//wiki/Kajal_Aggarwal_filmography',\n",
       " 'https://en.wikipedia.org//wiki/Samantha_Ruth_Prabhu_filmography',\n",
       " 'https://en.wikipedia.org//wiki/Ali_filmography',\n",
       " 'https://en.wikipedia.org//wiki/Zeenat_Aman_filmography',\n",
       " 'https://en.wikipedia.org//wiki/Ambareesh_filmography',\n",
       " 'https://en.wikipedia.org//wiki/Dev_Anand_filmography',\n",
       " 'https://en.wikipedia.org//wiki/Anil_Panachooran_filmography',\n",
       " 'https://en.wikipedia.org//wiki/Ramesh_Aravind_filmography',\n",
       " 'https://en.wikipedia.org//wiki/Allu_Arjun_filmography']"
      ]
     },
     "execution_count": 19,
     "metadata": {},
     "output_type": "execute_result"
    }
   ],
   "source": [
    "# WE need to loop over to get all the URl's\n",
    "Filmography_urls = []\n",
    "\n",
    "for i in range(len(link_a_tag)):\n",
    "    \n",
    "    Filmography_urls.append(\"https://en.wikipedia.org/\"+ link_a_tag[i])\n",
    "    \n",
    "Filmography_urls[:10]"
   ]
  },
  {
   "cell_type": "markdown",
   "metadata": {
    "id": "XMv0LD5k08G_"
   },
   "source": [
    "### Images for all the URL's"
   ]
  },
  {
   "cell_type": "markdown",
   "metadata": {
    "id": "gvyiF7vW08G_"
   },
   "source": [
    "###### As we can see by talking a picture and we will get all the images \n",
    "\n",
    "\n",
    "\n",
    "![](https://upload.wikimedia.org/wikipedia/commons/thumb/c/c3/John_Abraham_at_Trailor_launch_of_%27Shootout_At_Wadala%272013.jpg/318px-John_Abraham_at_Trailor_launch_of_%27Shootout_At_Wadala%272013.jpg)"
   ]
  },
  {
   "cell_type": "code",
   "execution_count": 20,
   "metadata": {
    "id": "XCOUU2FC08HA"
   },
   "outputs": [],
   "source": [
    "# here we have created a function to to get all the Images of Filmographies that we have Extracted Filmography Website\n",
    "# we will search \"img\" tag to get the image of all the filmographies \n",
    "# This we take images from each individual URL's.\n",
    "def Filmography_Images(Filmography):\n",
    "    Images = []\n",
    "    for url in Filmography:\n",
    "        response1 = requests.get(url)\n",
    "        topic_doc1 = BeautifulSoup(response1.text,'html.parser')\n",
    "        a1=topic_doc1.find_all('img')\n",
    "        b1=a1[0]['src']\n",
    "        b2= a1[1]['src']\n",
    "        if \"//upload.wikimedia.org/wikipedia/commons/thumb/\" in b1:\n",
    "            Images.append(b1)\n",
    "        elif  \"//upload.wikimedia.org/wikipedia/commons/thumb/\" in b2 :\n",
    "            Images.append(b2)\n",
    "        else:\n",
    "            Images.append(None)\n",
    "    return Images"
   ]
  },
  {
   "cell_type": "code",
   "execution_count": 21,
   "metadata": {
    "id": "BKPc_cJg08HA",
    "outputId": "cb106ded-ec3c-4072-f52a-68653f36b701"
   },
   "outputs": [
    {
     "data": {
      "text/plain": [
       "['//upload.wikimedia.org/wikipedia/commons/thumb/6/6e/Johnnyabrahama.jpg/220px-Johnnyabrahama.jpg',\n",
       " '//upload.wikimedia.org/wikipedia/commons/thumb/2/2d/Kajal_Aggarwal_Lakme_Fashion_Week_2017.jpg/220px-Kajal_Aggarwal_Lakme_Fashion_Week_2017.jpg',\n",
       " '//upload.wikimedia.org/wikipedia/commons/thumb/9/99/Samantha_at_10_Enradhukulla_Teaser_Launch.jpg/220px-Samantha_at_10_Enradhukulla_Teaser_Launch.jpg',\n",
       " None,\n",
       " '//upload.wikimedia.org/wikipedia/commons/thumb/0/08/Zeenat_Aman_at_the_Society_Achievers_Awards_2018_%28cropped%29.jpg/196px-Zeenat_Aman_at_the_Society_Achievers_Awards_2018_%28cropped%29.jpg',\n",
       " None,\n",
       " '//upload.wikimedia.org/wikipedia/commons/thumb/7/71/Portrait_of_Dev_Anand_1951.jpg/200px-Portrait_of_Dev_Anand_1951.jpg',\n",
       " '//upload.wikimedia.org/wikipedia/commons/thumb/a/aa/Merge-arrow.svg/50px-Merge-arrow.svg.png',\n",
       " None,\n",
       " '//upload.wikimedia.org/wikipedia/commons/thumb/f/f0/Allu_Arjun_at_62nd_Filmfare_awards_south.jpg/220px-Allu_Arjun_at_62nd_Filmfare_awards_south.jpg',\n",
       " '//upload.wikimedia.org/wikipedia/commons/thumb/a/aa/Merge-arrow.svg/50px-Merge-arrow.svg.png',\n",
       " '//upload.wikimedia.org/wikipedia/commons/thumb/1/1e/Asin03.jpg/220px-Asin03.jpg',\n",
       " None,\n",
       " '//upload.wikimedia.org/wikipedia/commons/thumb/a/a8/Jagapathi_Babu.png/220px-Jagapathi_Babu.png',\n",
       " '//upload.wikimedia.org/wikipedia/commons/thumb/4/42/Mahesh_Babu_in_Spyder.jpg/220px-Mahesh_Babu_in_Spyder.jpg',\n",
       " None,\n",
       " '//upload.wikimedia.org/wikipedia/commons/thumb/a/a4/Text_document_with_red_question_mark.svg/40px-Text_document_with_red_question_mark.svg.png',\n",
       " '//upload.wikimedia.org/wikipedia/commons/thumb/5/56/Abhi_2013.jpg/220px-Abhi_2013.jpg',\n",
       " '//upload.wikimedia.org/wikipedia/commons/thumb/9/9a/BACHCHAN_Amitabh_03-24x30-2009b.jpg/240px-BACHCHAN_Amitabh_03-24x30-2009b.jpg',\n",
       " '//upload.wikimedia.org/wikipedia/commons/thumb/a/a6/India_film_clapperboard_%28variant%29.svg/18px-India_film_clapperboard_%28variant%29.svg.png',\n",
       " '//upload.wikimedia.org/wikipedia/commons/thumb/d/db/Manoj_Bajpayee_at_special_screening_of_Aarakshan.jpg/220px-Manoj_Bajpayee_at_special_screening_of_Aarakshan.jpg',\n",
       " '//upload.wikimedia.org/wikipedia/commons/thumb/f/f2/Anand_Bakshi.tif/lossless-page1-220px-Anand_Bakshi.tif.png',\n",
       " '//upload.wikimedia.org/wikipedia/commons/thumb/a/a4/Text_document_with_red_question_mark.svg/40px-Text_document_with_red_question_mark.svg.png',\n",
       " '//upload.wikimedia.org/wikipedia/commons/thumb/3/3f/Nandamuri_Balakrishna.jpg/290px-Nandamuri_Balakrishna.jpg',\n",
       " '//upload.wikimedia.org/wikipedia/commons/thumb/d/d1/Vidya_Balan_promoting_Tumhari_Sulu_2.jpg/200px-Vidya_Balan_promoting_Tumhari_Sulu_2.jpg',\n",
       " '//upload.wikimedia.org/wikipedia/commons/thumb/7/7d/SP_Balasubrahmanyam_at_Kanithan_Audio_Launch.jpg/220px-SP_Balasubrahmanyam_at_Kanithan_Audio_Launch.jpg',\n",
       " '//upload.wikimedia.org/wikipedia/commons/thumb/8/8f/Bipasha_BaSu.jpg/220px-Bipasha_BaSu.jpg',\n",
       " None,\n",
       " None,\n",
       " '//upload.wikimedia.org/wikipedia/commons/thumb/6/6e/Brahmanandam_2017.png/220px-Brahmanandam_2017.png',\n",
       " '//upload.wikimedia.org/wikipedia/commons/thumb/3/38/The_film_star_Mithun_Chakraborty_addressing_the_closing_ceremony_of_the_36th_International_Film_Festival_of_India_%E2%80%93_2005_in_Panaji%2C_Goa_on_December_4%2C_2005.jpg/220px-thumbnail.jpg',\n",
       " '//upload.wikimedia.org/wikipedia/commons/thumb/0/0b/Abirc.jpg/220px-Abirc.jpg',\n",
       " '//upload.wikimedia.org/wikipedia/commons/thumb/4/40/Parambrata_Chatterjee_photo.jpg/220px-Parambrata_Chatterjee_photo.jpg',\n",
       " '//upload.wikimedia.org/wikipedia/commons/thumb/e/ea/Prosenjit.jpg/220px-Prosenjit.jpg',\n",
       " '//upload.wikimedia.org/wikipedia/commons/thumb/7/71/Soumitra_Chatterjee_reciting_a_poem_by_Rabindranath_Tagore_at_inauguration_of_a_flower_show.jpg/220px-Soumitra_Chatterjee_reciting_a_poem_by_Rabindranath_Tagore_at_inauguration_of_a_flower_show.jpg',\n",
       " '//upload.wikimedia.org/wikipedia/commons/thumb/4/4f/JuhiChawla.jpg/200px-JuhiChawla.jpg',\n",
       " None,\n",
       " '//upload.wikimedia.org/wikipedia/commons/thumb/0/07/Darshan_Thoogudeep_kannada_film_actor.jpg/220px-Darshan_Thoogudeep_kannada_film_actor.jpg',\n",
       " '//upload.wikimedia.org/wikipedia/commons/thumb/b/b4/Sunny_Deol_still6.jpg/220px-Sunny_Deol_still6.jpg',\n",
       " '//upload.wikimedia.org/wikipedia/commons/thumb/7/7b/Dev_at_a_screening.jpg/220px-Dev_at_a_screening.jpg',\n",
       " '//upload.wikimedia.org/wikipedia/commons/thumb/1/11/Prabhu_Dheva_at_Success_bash_of_%27Rowdy_Rathore%27_%285%29.jpg/220px-Prabhu_Dheva_at_Success_bash_of_%27Rowdy_Rathore%27_%285%29.jpg',\n",
       " '//upload.wikimedia.org/wikipedia/commons/thumb/6/6b/Ajay_Devgan.jpg/220px-Ajay_Devgan.jpg',\n",
       " None,\n",
       " '//upload.wikimedia.org/wikipedia/commons/thumb/c/cc/Dhanush_at_VIP_2_Success_Meet.jpg/220px-Dhanush_at_VIP_2_Success_Meet.jpg',\n",
       " None,\n",
       " None,\n",
       " '//upload.wikimedia.org/wikipedia/commons/thumb/4/4c/Madhuri_Dixit_celebrities_grace_Lux_Golden_Rose_Awards_2016_in_Mumbai_%2808%29.jpg/220px-Madhuri_Dixit_celebrities_grace_Lux_Golden_Rose_Awards_2016_in_Mumbai_%2808%29.jpg',\n",
       " '//upload.wikimedia.org/wikipedia/commons/thumb/f/fd/Dr._Rajkumar_4.jpg/220px-Dr._Rajkumar_4.jpg',\n",
       " '//upload.wikimedia.org/wikipedia/commons/thumb/0/05/Sanjay_Dutt_snapped_promoting_his_film_%E2%80%98Bhoomi%E2%80%99.jpg/220px-Sanjay_Dutt_snapped_promoting_his_film_%E2%80%98Bhoomi%E2%80%99.jpg',\n",
       " None,\n",
       " None,\n",
       " '//upload.wikimedia.org/wikipedia/commons/thumb/6/60/Gemini_Ganesan_300.jpg/220px-Gemini_Ganesan_300.jpg',\n",
       " None,\n",
       " None,\n",
       " None,\n",
       " '//upload.wikimedia.org/wikipedia/commons/thumb/1/10/Joju_George.jpg/170px-Joju_George.jpg',\n",
       " None,\n",
       " None,\n",
       " '//upload.wikimedia.org/wikipedia/commons/thumb/0/0c/Suresh_Gopi_singing_%28cropped%29.jpg/220px-Suresh_Gopi_singing_%28cropped%29.jpg',\n",
       " '//upload.wikimedia.org/wikipedia/commons/thumb/f/f6/Govinda_snapped_at_trailer_launch_of_the_film_Fry_Day_%28cropped%29.jpg/220px-Govinda_snapped_at_trailer_launch_of_the_film_Fry_Day_%28cropped%29.jpg',\n",
       " '//upload.wikimedia.org/wikipedia/commons/thumb/3/38/Gulzar_2008_-_still_38227.jpg/220px-Gulzar_2008_-_still_38227.jpg',\n",
       " '//upload.wikimedia.org/wikipedia/commons/thumb/f/f2/Kamal_Haasan_at_Promotions_of_%27Vishwaroop%27_with_Videocon_%2803%29.jpg/220px-Kamal_Haasan_at_Promotions_of_%27Vishwaroop%27_with_Videocon_%2803%29.jpg',\n",
       " '//upload.wikimedia.org/wikipedia/commons/thumb/e/ea/Shruti_Haasan_at_62nd_Britannia_Filmfare_South_Awards_2014.jpg/220px-Shruti_Haasan_at_62nd_Britannia_Filmfare_South_Awards_2014.jpg',\n",
       " '//upload.wikimedia.org/wikipedia/commons/thumb/7/75/Hariprriya_Image.jpg/250px-Hariprriya_Image.jpg',\n",
       " '//upload.wikimedia.org/wikipedia/commons/thumb/0/08/Emraan_Filmfare_Magazine_Launch.jpg/220px-Emraan_Filmfare_Magazine_Launch.jpg',\n",
       " None,\n",
       " '//upload.wikimedia.org/wikipedia/commons/thumb/a/a4/Text_document_with_red_question_mark.svg/40px-Text_document_with_red_question_mark.svg.png',\n",
       " None,\n",
       " '//upload.wikimedia.org/wikipedia/commons/thumb/a/a4/Text_document_with_red_question_mark.svg/40px-Text_document_with_red_question_mark.svg.png',\n",
       " '//upload.wikimedia.org/wikipedia/commons/thumb/2/2b/Jayalalitha_in_2016.jpg/220px-Jayalalitha_in_2016.jpg',\n",
       " '//upload.wikimedia.org/wikipedia/commons/thumb/0/06/Jayaram_2008.jpg/220px-Jayaram_2008.jpg',\n",
       " None,\n",
       " '//upload.wikimedia.org/wikipedia/commons/thumb/e/e0/Jeet_%28actor_bengali%29.jpg/220px-Jeet_%28actor_bengali%29.jpg',\n",
       " '//upload.wikimedia.org/wikipedia/commons/thumb/b/bf/Jeetendra_colors_indian_telly_awards.jpg/220px-Jeetendra_colors_indian_telly_awards.jpg',\n",
       " '//upload.wikimedia.org/wikipedia/commons/thumb/7/77/Jyothika_Filmfare_2014.jpg/220px-Jyothika_Filmfare_2014.jpg',\n",
       " '//upload.wikimedia.org/wikipedia/commons/thumb/6/65/Katrina_Kaif_in_2018.jpg/220px-Katrina_Kaif_in_2018.jpg',\n",
       " '//upload.wikimedia.org/wikipedia/commons/thumb/9/94/Kajol_in_October_2021.jpg/220px-Kajol_in_October_2021.jpg',\n",
       " '//upload.wikimedia.org/wikipedia/commons/thumb/3/32/Pawan2.jpg/220px-Pawan2.jpg',\n",
       " '//upload.wikimedia.org/wikipedia/commons/thumb/6/6b/DimpleKapadia2018.jpg/220px-DimpleKapadia2018.jpg',\n",
       " '//upload.wikimedia.org/wikipedia/commons/thumb/0/0d/Anil_Kapoor_still7.jpg/220px-Anil_Kapoor_still7.jpg',\n",
       " '//upload.wikimedia.org/wikipedia/commons/thumb/e/ef/Kareena_Kapoor_2015.jpg/220px-Kareena_Kapoor_2015.jpg',\n",
       " '//upload.wikimedia.org/wikipedia/commons/thumb/1/19/Raj_Kapoor_In_Aah_%281953%29.png/220px-Raj_Kapoor_In_Aah_%281953%29.png',\n",
       " None,\n",
       " None,\n",
       " '//upload.wikimedia.org/wikipedia/commons/thumb/0/08/Shahid_promotes_%27Teri_Meri_Kahaani%27_03.jpg/220px-Shahid_promotes_%27Teri_Meri_Kahaani%27_03.jpg',\n",
       " '//upload.wikimedia.org/wikipedia/commons/thumb/5/5e/Shakti_Kapoor_1.jpg/220px-Shakti_Kapoor_1.jpg',\n",
       " '//upload.wikimedia.org/wikipedia/commons/thumb/a/a4/Text_document_with_red_question_mark.svg/40px-Text_document_with_red_question_mark.svg.png',\n",
       " '//upload.wikimedia.org/wikipedia/commons/thumb/a/a0/KarismaKapoor05.jpg/200px-KarismaKapoor05.jpg',\n",
       " '//upload.wikimedia.org/wikipedia/commons/thumb/5/59/Anurag_kashyap.jpg/260px-Anurag_kashyap.jpg',\n",
       " None,\n",
       " '//upload.wikimedia.org/wikipedia/commons/thumb/b/bd/Aamir_Khan_2013.jpg/220px-Aamir_Khan_2013.jpg',\n",
       " '//upload.wikimedia.org/wikipedia/commons/thumb/8/81/Irrfan_Khan_2012.jpg/220px-Irrfan_Khan_2012.jpg',\n",
       " '//upload.wikimedia.org/wikipedia/commons/thumb/2/2f/Kader_Khan_2012.jpg/200px-Kader_Khan_2012.jpg',\n",
       " '//upload.wikimedia.org/wikipedia/commons/thumb/f/f3/Saif_at_Chef_event.jpg/220px-Saif_at_Chef_event.jpg',\n",
       " '//upload.wikimedia.org/wikipedia/commons/thumb/0/0e/Salman_Khan.jpg/220px-Salman_Khan.jpg',\n",
       " None,\n",
       " '//upload.wikimedia.org/wikipedia/commons/thumb/c/c3/Rajesh_Khanna_2013_stamp_of_India.jpg/220px-Rajesh_Khanna_2013_stamp_of_India.jpg',\n",
       " '//upload.wikimedia.org/wikipedia/commons/thumb/a/a4/Text_document_with_red_question_mark.svg/40px-Text_document_with_red_question_mark.svg.png',\n",
       " '//upload.wikimedia.org/wikipedia/commons/thumb/2/26/Anupam_Kher.jpg/220px-Anupam_Kher.jpg',\n",
       " '//upload.wikimedia.org/wikipedia/commons/thumb/c/cd/Ayushman_Khurana_walks_for_Manish_Malhotra_%26_Shaina_NC%27s_show_for_CPAA_23.jpg/220px-Ayushman_Khurana_walks_for_Manish_Malhotra_%26_Shaina_NC%27s_show_for_CPAA_23.jpg',\n",
       " '//upload.wikimedia.org/wikipedia/commons/thumb/b/b3/Manisha.Koirala.jpg/220px-Manisha.Koirala.jpg',\n",
       " None,\n",
       " '//upload.wikimedia.org/wikipedia/commons/thumb/a/a4/Text_document_with_red_question_mark.svg/40px-Text_document_with_red_question_mark.svg.png',\n",
       " '//upload.wikimedia.org/wikipedia/commons/thumb/c/c1/The_Vice_President%2C_Shri_M._Venkaiah_Naidu_giving_away_special_award_to_film_artiste%2C_Ms._Ramyakrishna%2C_at_the_30th_Ugadi_Celebrations_%26_Puraskar_Presentation_-_2018%2C_organised_by_Delhi_Telugu_Academy%2C_in_New_Delhi.jpg/220px-thumbnail.jpg',\n",
       " '//upload.wikimedia.org/wikipedia/commons/thumb/5/50/Ajith_kumar_2019.jpg/220px-Ajith_kumar_2019.jpg',\n",
       " '//upload.wikimedia.org/wikipedia/commons/thumb/1/1e/AkshayKumar_promoting_his_film_%27Gabbar_Is_Back%27.jpg/220px-AkshayKumar_promoting_his_film_%27Gabbar_Is_Back%27.jpg',\n",
       " '//upload.wikimedia.org/wikipedia/commons/thumb/0/0a/Ashok_Kumar_dans_Nirmala_%281938%29.jpg/220px-Ashok_Kumar_dans_Nirmala_%281938%29.jpg',\n",
       " '//upload.wikimedia.org/wikipedia/commons/thumb/b/bd/Dilip_Kumar_in_1946.jpg/220px-Dilip_Kumar_in_1946.jpg',\n",
       " '//upload.wikimedia.org/wikipedia/commons/thumb/a/a4/Text_document_with_red_question_mark.svg/40px-Text_document_with_red_question_mark.svg.png',\n",
       " '//upload.wikimedia.org/wikipedia/commons/thumb/5/52/Sanjeev_Kumar_2013_stamp_of_India.jpg/220px-Sanjeev_Kumar_2013_stamp_of_India.jpg',\n",
       " '//upload.wikimedia.org/wikipedia/commons/thumb/9/9c/Uttam-Kumar-and-Suchitra-Sen-in-Bangla-Movie-Harano-Sur---1957.jpg/220px-Uttam-Kumar-and-Suchitra-Sen-in-Bangla-Movie-Harano-Sur---1957.jpg',\n",
       " '//upload.wikimedia.org/wikipedia/commons/thumb/a/a4/Text_document_with_red_question_mark.svg/40px-Text_document_with_red_question_mark.svg.png',\n",
       " '//upload.wikimedia.org/wikipedia/commons/thumb/9/9c/Director_Ranjith_briefing_at_presentation_of_his_Malayalam_film_%E2%80%98Kayyoppu%E2%80%99_before_screening_at_IFFI-2007%2CPanaji%2CGoa_on_November_25%2C2007._Actress_Khushboo_is_also_seen.jpg/228px-thumbnail.jpg',\n",
       " None,\n",
       " '//upload.wikimedia.org/wikipedia/commons/thumb/a/a4/Text_document_with_red_question_mark.svg/40px-Text_document_with_red_question_mark.svg.png',\n",
       " '//upload.wikimedia.org/wikipedia/commons/thumb/2/24/Madhavanprof.JPG/220px-Madhavanprof.JPG',\n",
       " '//upload.wikimedia.org/wikipedia/commons/thumb/8/8e/Madhu_2008.jpg/220px-Madhu_2008.jpg',\n",
       " '//upload.wikimedia.org/wikipedia/commons/thumb/1/1d/Madhubala_Pardes.jpg/220px-Madhubala_Pardes.jpg',\n",
       " '//upload.wikimedia.org/wikipedia/commons/thumb/1/19/Hema_Malini_162.jpg/200px-Hema_Malini_162.jpg',\n",
       " '//upload.wikimedia.org/wikipedia/commons/thumb/3/38/SOP_Mammootty2016.jpg/230px-SOP_Mammootty2016.jpg',\n",
       " '//upload.wikimedia.org/wikipedia/commons/thumb/0/03/Green_check.svg/13px-Green_check.svg.png',\n",
       " '//upload.wikimedia.org/wikipedia/commons/thumb/a/a4/Text_document_with_red_question_mark.svg/40px-Text_document_with_red_question_mark.svg.png',\n",
       " '//upload.wikimedia.org/wikipedia/commons/thumb/e/eb/Manorama_at_Cinema_Journalist_Association_Event.jpg/220px-Manorama_at_Cinema_Journalist_Association_Event.jpg',\n",
       " '//upload.wikimedia.org/wikipedia/commons/thumb/f/f6/UrmilaMatondkar.jpg/220px-UrmilaMatondkar.jpg',\n",
       " None,\n",
       " '//upload.wikimedia.org/wikipedia/commons/thumb/a/a2/Super_Star_Mohanlal_BNC.jpg/220px-Super_Star_Mohanlal_BNC.jpg',\n",
       " '//upload.wikimedia.org/wikipedia/commons/thumb/7/77/Rani_Mukerji_promoting_Hichki_2_%28cropped%29.jpg/200px-Rani_Mukerji_promoting_Hichki_2_%28cropped%29.jpg',\n",
       " None,\n",
       " '//upload.wikimedia.org/wikipedia/commons/thumb/b/b8/Anantnag_actor.jpg/220px-Anantnag_actor.jpg',\n",
       " '//upload.wikimedia.org/wikipedia/commons/thumb/2/2c/Akkineni_Nagarjuna_at_TeachAIDS_India_Launch_2010.jpg/220px-Akkineni_Nagarjuna_at_TeachAIDS_India_Launch_2010.jpg',\n",
       " '//upload.wikimedia.org/wikipedia/commons/thumb/a/a4/Text_document_with_red_question_mark.svg/40px-Text_document_with_red_question_mark.svg.png',\n",
       " '//upload.wikimedia.org/wikipedia/commons/thumb/8/8f/Nani_%28actor%29_Image.jpg/200px-Nani_%28actor%29_Image.jpg',\n",
       " None,\n",
       " '//upload.wikimedia.org/wikipedia/commons/thumb/a/af/Nargis_-_Hindi_Movie_Actress_%281%29.jpg/220px-Nargis_-_Hindi_Movie_Actress_%281%29.jpg',\n",
       " None,\n",
       " '//upload.wikimedia.org/wikipedia/commons/thumb/8/80/Nayanthara_at_Filmfare_Awards.jpg/220px-Nayanthara_at_Filmfare_Awards.jpg',\n",
       " None,\n",
       " None,\n",
       " None,\n",
       " None,\n",
       " '//upload.wikimedia.org/wikipedia/commons/thumb/1/13/Deepika_Padukone_at_2019_Cannes_%28cropped%29.jpg/220px-Deepika_Padukone_at_2019_Cannes_%28cropped%29.jpg',\n",
       " '//upload.wikimedia.org/wikipedia/commons/thumb/a/a4/Text_document_with_red_question_mark.svg/40px-Text_document_with_red_question_mark.svg.png',\n",
       " '//upload.wikimedia.org/wikipedia/commons/thumb/a/a1/Taapsee-Pannu-Celebs-grace-the-HT-Style-Awards-2018-52_%28cropped%29.jpg/220px-Taapsee-Pannu-Celebs-grace-the-HT-Style-Awards-2018-52_%28cropped%29.jpg',\n",
       " '//upload.wikimedia.org/wikipedia/commons/thumb/a/af/Nana_Patekar_still5.jpg/240px-Nana_Patekar_still5.jpg',\n",
       " None,\n",
       " None,\n",
       " '//upload.wikimedia.org/wikipedia/commons/thumb/a/a8/Priyadarshan_at_a_press_conference_for_%E2%80%98Kamaal_Dhamaal_Malamaal%E2%80%99.jpg/220px-Priyadarshan_at_a_press_conference_for_%E2%80%98Kamaal_Dhamaal_Malamaal%E2%80%99.jpg',\n",
       " '//upload.wikimedia.org/wikipedia/commons/thumb/f/f6/Amrish_Puri_still1.jpg/200px-Amrish_Puri_still1.jpg',\n",
       " None,\n",
       " None,\n",
       " '//upload.wikimedia.org/wikipedia/commons/thumb/8/8a/Loudspeaker.svg/11px-Loudspeaker.svg.png',\n",
       " '//upload.wikimedia.org/wikipedia/commons/thumb/3/3b/Aishwarya_Rai_Cannes_2016.jpg/220px-Aishwarya_Rai_Cannes_2016.jpg',\n",
       " '//upload.wikimedia.org/wikipedia/commons/thumb/b/b7/Prakash_Raj_at_KLF.jpg/220px-Prakash_Raj_at_KLF.jpg',\n",
       " '//upload.wikimedia.org/wikipedia/commons/thumb/8/88/Rajinikanth_at_the_Inauguration_of_MGR_Statue_%28cropped%29.jpg/250px-Rajinikanth_at_the_Inauguration_of_MGR_Statue_%28cropped%29.jpg',\n",
       " '//upload.wikimedia.org/wikipedia/commons/thumb/6/65/PUNEETH_RAJKUMAR.jpg/220px-PUNEETH_RAJKUMAR.jpg',\n",
       " None,\n",
       " '//upload.wikimedia.org/wikipedia/commons/thumb/6/6f/Uppalapati_Krishnam_Raju.jpg/220px-Uppalapati_Krishnam_Raju.jpg',\n",
       " None,\n",
       " '//upload.wikimedia.org/wikipedia/commons/thumb/f/fd/Arjun_Rampal_still3.jpg/170px-Arjun_Rampal_still3.jpg',\n",
       " '//upload.wikimedia.org/wikipedia/commons/thumb/1/17/RanaDaggubati.jpg/220px-RanaDaggubati.jpg',\n",
       " '//upload.wikimedia.org/wikipedia/commons/thumb/7/75/NTR_in_1952.jpg/220px-NTR_in_1952.jpg',\n",
       " '//upload.wikimedia.org/wikipedia/commons/thumb/7/7f/Jr._NTR_at_Interview_for_Aravinda_Sametha.png/220px-Jr._NTR_at_Interview_for_Aravinda_Sametha.png',\n",
       " '//upload.wikimedia.org/wikipedia/commons/thumb/8/88/Rajkumar_Rao_Filmfare_Glamour_and_Style_Awards_2019_%28cropped%29.jpg/220px-Rajkumar_Rao_Filmfare_Glamour_and_Style_Awards_2019_%28cropped%29.jpg',\n",
       " None,\n",
       " None,\n",
       " '//upload.wikimedia.org/wikipedia/commons/thumb/1/1c/Ambox_rewrite.svg/40px-Ambox_rewrite.svg.png',\n",
       " '//upload.wikimedia.org/wikipedia/commons/thumb/6/63/SatyajitRay.jpg/220px-SatyajitRay.jpg',\n",
       " None,\n",
       " '//upload.wikimedia.org/wikipedia/commons/thumb/7/71/Rekha_still26.jpg/220px-Rekha_still26.jpg',\n",
       " None,\n",
       " '//upload.wikimedia.org/wikipedia/commons/thumb/4/40/Revathi_at_the_screening_of_Masaala_at_PVR_Phoenix_%281%29_%28cropped%29.jpg/220px-Revathi_at_the_screening_of_Masaala_at_PVR_Phoenix_%281%29_%28cropped%29.jpg',\n",
       " None,\n",
       " None,\n",
       " None,\n",
       " '//upload.wikimedia.org/wikipedia/commons/thumb/0/0d/Santhanam_at_Vallavanukku_Pullum_Aayudham_Thanksgiving_Meet.jpg/220px-Santhanam_at_Vallavanukku_Pullum_Aayudham_Thanksgiving_Meet.jpg',\n",
       " '//upload.wikimedia.org/wikipedia/commons/thumb/7/79/Kumar_sanu_colors_indian_telly_awards.jpg/220px-Kumar_sanu_colors_indian_telly_awards.jpg',\n",
       " '//upload.wikimedia.org/wikipedia/commons/thumb/9/93/Shriya_Saran_at_62nd_Filmfare_awards_south.jpg/300px-Shriya_Saran_at_62nd_Filmfare_awards_south.jpg',\n",
       " None,\n",
       " '//upload.wikimedia.org/wikipedia/commons/thumb/f/f9/Arjun_Sarja.jpg/220px-Arjun_Sarja.jpg',\n",
       " None,\n",
       " '//upload.wikimedia.org/wikipedia/commons/thumb/8/8b/Sathiyaraj.JPG/220px-Sathiyaraj.JPG',\n",
       " '//upload.wikimedia.org/wikipedia/commons/thumb/8/83/Savitri_Actress.jpg/220px-Savitri_Actress.jpg',\n",
       " None,\n",
       " None,\n",
       " '//upload.wikimedia.org/wikipedia/commons/thumb/1/1f/Jishu_Sengupta.jpg/250px-Jishu_Sengupta.jpg',\n",
       " '//upload.wikimedia.org/wikipedia/commons/thumb/5/51/MAKKAL_SELVAN_Vijay_Sethupathi.png/220px-MAKKAL_SELVAN_Vijay_Sethupathi.png',\n",
       " '//upload.wikimedia.org/wikipedia/commons/thumb/4/4d/Naseeruddin_Shah_Audio_release_of_%27Maximum%27_06.jpg/220px-Naseeruddin_Shah_Audio_release_of_%27Maximum%27_06.jpg']"
      ]
     },
     "execution_count": 21,
     "metadata": {},
     "output_type": "execute_result"
    }
   ],
   "source": [
    "Images = Filmography_Images(Filmography_urls)\n",
    "Images"
   ]
  },
  {
   "cell_type": "code",
   "execution_count": 22,
   "metadata": {
    "id": "HBCP3T1908HA",
    "outputId": "e1cedd5b-390f-43db-bb4a-6420855917b9"
   },
   "outputs": [
    {
     "data": {
      "text/plain": [
       "(187, 187, 187)"
      ]
     },
     "execution_count": 22,
     "metadata": {},
     "output_type": "execute_result"
    }
   ],
   "source": [
    "# We will check the length of all the Filmographies, Their URls and Their Images\n",
    "len(titles_a_tag),len(Filmography_urls),len(Images)"
   ]
  },
  {
   "cell_type": "markdown",
   "metadata": {
    "id": "WhGGKGPe08HB"
   },
   "source": [
    "## Creating a DataFrame using Pandas for Lists derived till now"
   ]
  },
  {
   "cell_type": "markdown",
   "metadata": {
    "id": "zUf1qEfs08HB"
   },
   "source": [
    "> What is **Pandas**?\n",
    "\n",
    ">Pandas is a software library written for the Python programming language for data manipulation and analysis. \n",
    "In particular, it offers data structures and operations for manipulating numerical tables and time series.\n",
    "\n",
    ">What is a **DataFrame**?\n",
    "\n",
    ">A Pandas DataFrame is a 2 dimensional data structure, like a 2 dimensional array, or a table with rows and columns.\n",
    "DataFrame makes it easier for us to work with tablular data and analyse it."
   ]
  },
  {
   "cell_type": "code",
   "execution_count": 23,
   "metadata": {
    "id": "rTC5UQfQ08HB"
   },
   "outputs": [],
   "source": [
    "!pip install pandas --upgrade --quiet    #Installing Pandas Library\n",
    "import pandas as pd"
   ]
  },
  {
   "cell_type": "markdown",
   "metadata": {
    "id": "sf0MNQSq08HB"
   },
   "source": [
    "Now, First we will create a `Python Dictionary` with the `filmographies Names` and `filmographies URLs` and `filmographies Images` that we have extracted above."
   ]
  },
  {
   "cell_type": "code",
   "execution_count": 24,
   "metadata": {
    "id": "W91_7mGd08HB"
   },
   "outputs": [],
   "source": [
    "Filmography_dict = {\n",
    "    'Actor/Actress_Name' : titles_a_tag,\n",
    "    'Url_Of_Profiles': Filmography_urls,\n",
    "    'Images' : Images\n",
    "}"
   ]
  },
  {
   "cell_type": "code",
   "execution_count": 25,
   "metadata": {
    "id": "kyP4mfUF08HC"
   },
   "outputs": [],
   "source": [
    "Filmography_df = pd.DataFrame(Filmography_dict)  #Here we convert the dictionary into a Pandas DataFrame"
   ]
  },
  {
   "cell_type": "markdown",
   "metadata": {
    "id": "RSLe5v9a08HC"
   },
   "source": [
    "Now, Let us check the length of the Dataframe that we have created which contains the `filmography Names` and `filmograpgy URLs` and `filmography Images`"
   ]
  },
  {
   "cell_type": "code",
   "execution_count": 26,
   "metadata": {
    "id": "RX6R-sLd08HC",
    "outputId": "b4360b26-cc77-4224-d97b-682501438258"
   },
   "outputs": [
    {
     "data": {
      "text/plain": [
       "187"
      ]
     },
     "execution_count": 26,
     "metadata": {},
     "output_type": "execute_result"
    }
   ],
   "source": [
    "len(Filmography_df)"
   ]
  },
  {
   "cell_type": "markdown",
   "metadata": {
    "id": "Xf7zRhtq08HC"
   },
   "source": [
    "We can see that the DataFrame consists of **188 items**, that is equal to the number of filmography.\n",
    "\n",
    "Therefore, we can be sure that we have extracted the complete information that we had intended to."
   ]
  },
  {
   "cell_type": "code",
   "execution_count": 39,
   "metadata": {
    "id": "guqgZb-C08HC",
    "outputId": "47dcb33f-ccd8-4a62-cd5d-275d8206722a"
   },
   "outputs": [
    {
     "data": {
      "text/html": [
       "<div>\n",
       "<style scoped>\n",
       "    .dataframe tbody tr th:only-of-type {\n",
       "        vertical-align: middle;\n",
       "    }\n",
       "\n",
       "    .dataframe tbody tr th {\n",
       "        vertical-align: top;\n",
       "    }\n",
       "\n",
       "    .dataframe thead th {\n",
       "        text-align: right;\n",
       "    }\n",
       "</style>\n",
       "<table border=\"1\" class=\"dataframe\">\n",
       "  <thead>\n",
       "    <tr style=\"text-align: right;\">\n",
       "      <th></th>\n",
       "      <th>Actor/Actress_Name</th>\n",
       "      <th>Url_Of_Profiles</th>\n",
       "      <th>Images</th>\n",
       "    </tr>\n",
       "  </thead>\n",
       "  <tbody>\n",
       "    <tr>\n",
       "      <th>0</th>\n",
       "      <td>John Abraham</td>\n",
       "      <td>https://en.wikipedia.org//wiki/John_Abraham_fi...</td>\n",
       "      <td>//upload.wikimedia.org/wikipedia/commons/thumb...</td>\n",
       "    </tr>\n",
       "    <tr>\n",
       "      <th>1</th>\n",
       "      <td>Kajal Aggarwal</td>\n",
       "      <td>https://en.wikipedia.org//wiki/Kajal_Aggarwal_...</td>\n",
       "      <td>//upload.wikimedia.org/wikipedia/commons/thumb...</td>\n",
       "    </tr>\n",
       "    <tr>\n",
       "      <th>2</th>\n",
       "      <td>Samantha Ruth Prabhu</td>\n",
       "      <td>https://en.wikipedia.org//wiki/Samantha_Ruth_P...</td>\n",
       "      <td>//upload.wikimedia.org/wikipedia/commons/thumb...</td>\n",
       "    </tr>\n",
       "    <tr>\n",
       "      <th>3</th>\n",
       "      <td>Ali</td>\n",
       "      <td>https://en.wikipedia.org//wiki/Ali_filmography</td>\n",
       "      <td>None</td>\n",
       "    </tr>\n",
       "    <tr>\n",
       "      <th>4</th>\n",
       "      <td>Zeenat Aman</td>\n",
       "      <td>https://en.wikipedia.org//wiki/Zeenat_Aman_fil...</td>\n",
       "      <td>//upload.wikimedia.org/wikipedia/commons/thumb...</td>\n",
       "    </tr>\n",
       "    <tr>\n",
       "      <th>...</th>\n",
       "      <td>...</td>\n",
       "      <td>...</td>\n",
       "      <td>...</td>\n",
       "    </tr>\n",
       "    <tr>\n",
       "      <th>182</th>\n",
       "      <td>Seeman</td>\n",
       "      <td>https://en.wikipedia.org//wiki/Seeman_filmography</td>\n",
       "      <td>None</td>\n",
       "    </tr>\n",
       "    <tr>\n",
       "      <th>183</th>\n",
       "      <td>Aparna Sen</td>\n",
       "      <td>https://en.wikipedia.org//wiki/Aparna_Sen_film...</td>\n",
       "      <td>None</td>\n",
       "    </tr>\n",
       "    <tr>\n",
       "      <th>184</th>\n",
       "      <td>Jisshu Sengupta</td>\n",
       "      <td>https://en.wikipedia.org//wiki/Jisshu_Sengupta...</td>\n",
       "      <td>//upload.wikimedia.org/wikipedia/commons/thumb...</td>\n",
       "    </tr>\n",
       "    <tr>\n",
       "      <th>185</th>\n",
       "      <td>Vijay Sethupathi</td>\n",
       "      <td>https://en.wikipedia.org//wiki/Vijay_Sethupath...</td>\n",
       "      <td>//upload.wikimedia.org/wikipedia/commons/thumb...</td>\n",
       "    </tr>\n",
       "    <tr>\n",
       "      <th>186</th>\n",
       "      <td>Naseeruddin Shah</td>\n",
       "      <td>https://en.wikipedia.org//wiki/Naseeruddin_Sha...</td>\n",
       "      <td>//upload.wikimedia.org/wikipedia/commons/thumb...</td>\n",
       "    </tr>\n",
       "  </tbody>\n",
       "</table>\n",
       "<p>187 rows × 3 columns</p>\n",
       "</div>"
      ],
      "text/plain": [
       "        Actor/Actress_Name                                    Url_Of_Profiles  \\\n",
       "0            John Abraham   https://en.wikipedia.org//wiki/John_Abraham_fi...   \n",
       "1          Kajal Aggarwal   https://en.wikipedia.org//wiki/Kajal_Aggarwal_...   \n",
       "2    Samantha Ruth Prabhu   https://en.wikipedia.org//wiki/Samantha_Ruth_P...   \n",
       "3                     Ali      https://en.wikipedia.org//wiki/Ali_filmography   \n",
       "4             Zeenat Aman   https://en.wikipedia.org//wiki/Zeenat_Aman_fil...   \n",
       "..                     ...                                                ...   \n",
       "182                Seeman   https://en.wikipedia.org//wiki/Seeman_filmography   \n",
       "183            Aparna Sen   https://en.wikipedia.org//wiki/Aparna_Sen_film...   \n",
       "184       Jisshu Sengupta   https://en.wikipedia.org//wiki/Jisshu_Sengupta...   \n",
       "185      Vijay Sethupathi   https://en.wikipedia.org//wiki/Vijay_Sethupath...   \n",
       "186      Naseeruddin Shah   https://en.wikipedia.org//wiki/Naseeruddin_Sha...   \n",
       "\n",
       "                                                Images  \n",
       "0    //upload.wikimedia.org/wikipedia/commons/thumb...  \n",
       "1    //upload.wikimedia.org/wikipedia/commons/thumb...  \n",
       "2    //upload.wikimedia.org/wikipedia/commons/thumb...  \n",
       "3                                                 None  \n",
       "4    //upload.wikimedia.org/wikipedia/commons/thumb...  \n",
       "..                                                 ...  \n",
       "182                                               None  \n",
       "183                                               None  \n",
       "184  //upload.wikimedia.org/wikipedia/commons/thumb...  \n",
       "185  //upload.wikimedia.org/wikipedia/commons/thumb...  \n",
       "186  //upload.wikimedia.org/wikipedia/commons/thumb...  \n",
       "\n",
       "[187 rows x 3 columns]"
      ]
     },
     "execution_count": 39,
     "metadata": {},
     "output_type": "execute_result"
    }
   ],
   "source": [
    "Filmography_df"
   ]
  },
  {
   "cell_type": "markdown",
   "metadata": {
    "id": "-IC44DOY08HD"
   },
   "source": [
    "We have finally created a DataFrame which contains `filmography Names`,`filmography URLs` and `filmography Images` of all the `188` filmographies mentioned on the`Bollywood Filmographies` page."
   ]
  },
  {
   "cell_type": "code",
   "execution_count": null,
   "metadata": {
    "id": "Sh3C_KL_08HD",
    "outputId": "a0ef2d49-9434-4267-df23-00a81e0bddd9"
   },
   "outputs": [
    {
     "data": {
      "application/javascript": [
       "window.require && require([\"base/js/namespace\"],function(Jupyter){Jupyter.notebook.save_checkpoint()})"
      ],
      "text/plain": [
       "<IPython.core.display.Javascript object>"
      ]
     },
     "metadata": {},
     "output_type": "display_data"
    }
   ],
   "source": [
    "# Let's Save the work again before going further\n",
    "jovian.commit()"
   ]
  },
  {
   "cell_type": "markdown",
   "metadata": {
    "id": "IV7io1Td08HD"
   },
   "source": [
    "## Next Steps\n",
    "### Now, we will go into the  individual `Filmographies` page and extract the rest of the required information"
   ]
  },
  {
   "cell_type": "markdown",
   "metadata": {
    "id": "DDysLa-e08HD"
   },
   "source": [
    "![](https://nimbus-screenshots.s3.amazonaws.com/s/fa8aae3a65f38cd2a56da4e49799708b.png)"
   ]
  },
  {
   "cell_type": "markdown",
   "metadata": {
    "id": "5_LXWNys08HD"
   },
   "source": [
    "#### Let's start with extracting all the information from the Filmographies of some particular `URL's`"
   ]
  },
  {
   "cell_type": "code",
   "execution_count": 29,
   "metadata": {
    "id": "MD48405l08HE"
   },
   "outputs": [],
   "source": [
    "# we will take the tables from Filmography URL's 0,1,3,4,23. In which we will take The Year, Title and Role\n",
    "urls = [Filmography_urls[0],Filmography_urls[1],Filmography_urls[3],Filmography_urls[4],Filmography_urls[23]]"
   ]
  },
  {
   "cell_type": "code",
   "execution_count": 30,
   "metadata": {
    "code_folding": [],
    "id": "DxKGz9XF08HF"
   },
   "outputs": [],
   "source": [
    "# get_docs fuction will reterive all the tables which has class \"Wikitable\"\n",
    "# and also get_docs function will get all the \"h1\" tags and replace filmography with empty space so that we will get all the Actor/Actress name.\n",
    "def get_docs(films_urls):\n",
    "    doc_list = []\n",
    "    title_list = []\n",
    "    for url in films_urls:\n",
    "        # Fetch and parse url's using Bs4\n",
    "        response = requests.get(url)\n",
    "        response.status_code\n",
    "        if response.status_code == 200 : # check the status_code \n",
    "            topic_doc = BeautifulSoup(response.text,'html.parser')\n",
    "            title_tags = topic_doc.find('h1').text.replace(' filmography','')\n",
    "            body_tags = topic_doc.find_all('table',{'class' : 'wikitable'})\n",
    "            doc_list.append(body_tags)\n",
    "            title_list.append(title_tags)\n",
    "        else :\n",
    "            print('Failed to load page {}'.format(url)) # if status_code is not equal to 200\n",
    "    return doc_list,title_list"
   ]
  },
  {
   "cell_type": "code",
   "execution_count": 31,
   "metadata": {
    "id": "5WT1WHaw08HF"
   },
   "outputs": [],
   "source": [
    "Table_urls, title_tags = get_docs(urls) # Calling get_docs fuction on urls\n"
   ]
  },
  {
   "cell_type": "code",
   "execution_count": 32,
   "metadata": {
    "id": "7ahGzUFV08HG",
    "outputId": "c0104bd9-fb54-4fb3-8892-fdf69e381357"
   },
   "outputs": [
    {
     "data": {
      "text/plain": [
       "['John Abraham',\n",
       " 'Kajal Aggarwal',\n",
       " 'Ali',\n",
       " 'Zeenat Aman',\n",
       " 'Nandamuri Balakrishna']"
      ]
     },
     "execution_count": 32,
     "metadata": {},
     "output_type": "execute_result"
    }
   ],
   "source": [
    "title_tags # These are the Actor/Actress name for which we are accessing the data."
   ]
  },
  {
   "cell_type": "code",
   "execution_count": 33,
   "metadata": {
    "id": "Az13lMCu08HG"
   },
   "outputs": [],
   "source": [
    "# we have written a function to get DataFrames of a table\n",
    "# we will covert the given Table_urls in Pandas Dataframe\n",
    "def DataFrames(Tables):\n",
    "    dfs = []\n",
    "    for i in Tables:\n",
    "        df=pd.read_html(str(i))\n",
    "        df=pd.DataFrame(df[1])\n",
    "        df=df[df.columns[0:3]]\n",
    "        dfs.append(df)\n",
    "    return dfs\n",
    "    "
   ]
  },
  {
   "cell_type": "code",
   "execution_count": 34,
   "metadata": {
    "id": "7kTCRdcY08HG",
    "outputId": "82292553-de01-41b7-8894-367e9d4eff0d"
   },
   "outputs": [
    {
     "data": {
      "text/plain": [
       "[    Year                    Title  \\\n",
       " 0   2003                     Jism   \n",
       " 1   2003                    Saaya   \n",
       " 2   2003                     Paap   \n",
       " 3   2004                  Aetbaar   \n",
       " 4   2004                   Lakeer   \n",
       " 5   2004                    Dhoom   \n",
       " 6   2004                 Madhoshi   \n",
       " 7   2005                    Elaan   \n",
       " 8   2005                    Karam   \n",
       " 9   2005                     Kaal   \n",
       " 10  2005                  Viruddh   \n",
       " 11  2005                    Water   \n",
       " 12  2005             Garam Masala   \n",
       " 13  2006                    Zinda   \n",
       " 14  2006            Taxi No. 9211   \n",
       " 15  2006                   Baabul   \n",
       " 16  2006            Kabul Express   \n",
       " 17  2007            Salaam-e-Ishq   \n",
       " 18  2007               No Smoking   \n",
       " 19  2007     Dhan Dhana Dhan Goal   \n",
       " 20  2008                  Dostana   \n",
       " 21  2009                 New York   \n",
       " 22  2010                Aashayein   \n",
       " 23  2010          Jhootha Hi Sahi   \n",
       " 24  2011             7 Khoon Maaf   \n",
       " 25  2011                    Force   \n",
       " 26  2011                Desi Boyz   \n",
       " 27  2012              Housefull 2   \n",
       " 28  2012              Vicky Donor   \n",
       " 29  2013                   Race 2   \n",
       " 30  2013           I, Me Aur Main   \n",
       " 31  2013       Shootout at Wadala   \n",
       " 32  2013              Madras Cafe   \n",
       " 33  2015             Welcome Back   \n",
       " 34  2016           Rocky Handsome   \n",
       " 35  2016                  Dishoom   \n",
       " 36  2016                  Force 2   \n",
       " 37  2018                  Parmanu   \n",
       " 38  2018         Satyameva Jayate   \n",
       " 39  2018  Savita Damodar Paranjpe   \n",
       " 40  2019       Romeo Akbar Walter   \n",
       " 41  2019              Batla House   \n",
       " 42  2019               Pagalpanti   \n",
       " 43  2021              Mumbai Saga   \n",
       " 44  2021       Sardar Ka Grandson   \n",
       " 45  2021       Satyameva Jayate 2   \n",
       " 46  2022                   Attack   \n",
       " 47  2022       Ek Villain Returns   \n",
       " 48  2022                     Mike   \n",
       " 49  2022            Tara Vs Bilal   \n",
       " 50  2023                  Pathaan   \n",
       " 51  2023                   Tehran   \n",
       " \n",
       "                                                  Role Actor/Actress  \n",
       " 0                                           Kabir Lal  John Abraham  \n",
       " 1                                Dr. Aakash Bhatnagar  John Abraham  \n",
       " 2                              Inspector Shiven Verma  John Abraham  \n",
       " 3                                       Aryan Trivedi  John Abraham  \n",
       " 4                                        Sahil Mishra  John Abraham  \n",
       " 5                                        Kabir Sharma  John Abraham  \n",
       " 6                                          Aman Joshi  John Abraham  \n",
       " 7                                     Abhimanyu Singh  John Abraham  \n",
       " 8                                         John Wargas  John Abraham  \n",
       " 9                                        Krish Thapar  John Abraham  \n",
       " 10                                    Amar Patwardhan  John Abraham  \n",
       " 11                                       Narayan Dutt  John Abraham  \n",
       " 12                                   Shyam Salgaonkar  John Abraham  \n",
       " 13                                       Rohit Chopra  John Abraham  \n",
       " 14                                         Jai Mittal  John Abraham  \n",
       " 15                                        Rajat Verma  John Abraham  \n",
       " 16                                         Suhel Khan  John Abraham  \n",
       " 17                                     Ashutosh Raina  John Abraham  \n",
       " 18                                                  K  John Abraham  \n",
       " 19                                       Sunny Bhasin  John Abraham  \n",
       " 20                                      Kunal Chauhan  John Abraham  \n",
       " 21                                       Samir Sheikh  John Abraham  \n",
       " 22                                       Rahul Sharma  John Abraham  \n",
       " 23                            Siddharth Arya / Fidato  John Abraham  \n",
       " 24                               Jamshed Singh Rathod  John Abraham  \n",
       " 25                       ACP Yashvardhan Singh / Yash  John Abraham  \n",
       " 26                               Nikhil Mathur / Nick  John Abraham  \n",
       " 27                                       Max Mehrotra  John Abraham  \n",
       " 28                                            Himself  John Abraham  \n",
       " 29                                       Armaan Malik  John Abraham  \n",
       " 30                                   Ishaan Sabharwal  John Abraham  \n",
       " 31                               Criminal Manya Surve  John Abraham  \n",
       " 32                                       Vikram Singh  John Abraham  \n",
       " 33                                         Ajay Barsi  John Abraham  \n",
       " 34                   Kabir Ahlawat / Rocky \"Handsome\"  John Abraham  \n",
       " 35                                     Kabir Shergill  John Abraham  \n",
       " 36                       ACP Yashvardhan Singh / Yash  John Abraham  \n",
       " 37                                       Ashwat Raina  John Abraham  \n",
       " 38                           Veerendra \"Veer\" Rathore  John Abraham  \n",
       " 39                                                  —  John Abraham  \n",
       " 40  Rehamatullah \"Romeo\" Ali / Akbar Malik / Walte...  John Abraham  \n",
       " 41                            DCP Sanjeev Kumar Yadav  John Abraham  \n",
       " 42                                        Raj Kishore  John Abraham  \n",
       " 43                          Criminal Amartya Rao Naik  John Abraham  \n",
       " 44                                      Gursher Singh  John Abraham  \n",
       " 45               Dadasaheb, Satya & Jay (Triple role)  John Abraham  \n",
       " 46                               Major Arjun Shergill  John Abraham  \n",
       " 47                                    Bhairav Purohit  John Abraham  \n",
       " 48                                                  —  John Abraham  \n",
       " 49                                                  —  John Abraham  \n",
       " 50                                      Shabir Ansari  John Abraham  \n",
       " 51                                          Dev Malik  John Abraham  ,\n",
       "     Year                   Title                                  Role  \\\n",
       " 0   2004     Kyun! Ho Gaya Na...                         Diya's sister   \n",
       " 1   2007        Lakshmi Kalyanam                               Lakshmi   \n",
       " 2   2007              Chandamama                          Maha Lakshmi   \n",
       " 3   2008                 Pourudu                             Samyukhta   \n",
       " 4   2008                 Pazhani                               Deepthi   \n",
       " 5   2008               Aatadista                               Sunanda   \n",
       " 6   2008                  Saroja                                 Pooja   \n",
       " 7   2009          Modhi Vilayadu   L. R. Easwari / Easwari Lakshmi Ram   \n",
       " 8   2009              Magadheera  Mithravindha Devi / Indira (Indu)[a]   \n",
       " 9   2009                  Ganesh                                 Divya   \n",
       " 10  2009                  Arya 2                                Geetha   \n",
       " 11  2010               Om Shanti                               Meghana   \n",
       " 12  2010                 Darling                               Nandini   \n",
       " 13  2010        Naan Mahaan Alla                       Priya Sudharsan   \n",
       " 14  2010             Brindavanam                                 Bhumi   \n",
       " 15  2011             Mr. Perfect                                 Priya   \n",
       " 16  2011                   Veera                       Chitra \"Chitti\"   \n",
       " 17  2011                 Singham                         Kaavya Bhosle   \n",
       " 18  2011                   Dhada                                  Rhea   \n",
       " 19  2012             Businessman                       Chitra Bhardwaj   \n",
       " 20  2012              Maattrraan                                Anjali   \n",
       " 21  2012               Thuppakki                                 Nisha   \n",
       " 22  2012               Sarocharu                               Sandhya   \n",
       " 23  2013                  Naayak                                 Madhu   \n",
       " 24  2013              Special 26                         Priya Chauhan   \n",
       " 25  2013                Baadshah                           Pilli Janki   \n",
       " 26  2013  All in All Azhagu Raja                  Chithra Devi \"Priya\"   \n",
       " 27  2014                   Jilla                               Shanthi   \n",
       " 28  2014                  Yevadu                                Deepti   \n",
       " 29  2014  Govindudu Andarivadele                                 Satya   \n",
       " 30  2015                  Temper                                Shanvi   \n",
       " 31  2015                   Maari                              Sri Devi   \n",
       " 32  2015             Paayum Puli                                Sowmya   \n",
       " 33  2015               Size Zero                               Herself   \n",
       " 34  2015        Inji Iduppazhagi                               Herself   \n",
       " 35  2016    Sardaar Gabbar Singh                                 Arshi   \n",
       " 36  2016            Brahmotsavam                        Kasi Annapurna   \n",
       " 37  2016     Do Lafzon Ki Kahani                     Dr. Jenny Mathias   \n",
       " 38  2016          Janatha Garage                               Herself   \n",
       " 39  2016   Final Cut of Director                                 Anita   \n",
       " 40  2016          Kavalai Vendam          Divya Priyadharshini Aravind   \n",
       " 41  2017          Khaidi No. 150                               Lakshmi   \n",
       " 42  2017   Nene Raju Nene Mantri                        Radha Jogendra   \n",
       " 43  2017                 Vivegam                    Yazhini Ajay Kumar   \n",
       " 44  2017                  Mersal                           Anu Pallavi   \n",
       " 45  2018                     Awe                                  Kali   \n",
       " 46  2018                     MLA                                  Indu   \n",
       " 47  2018                Kavacham                    Samyuktha Chaganti   \n",
       " 48  2019                    Sita                  V. Sita Maha Lakshmi   \n",
       " 49  2019              Ranarangam                                Geetha   \n",
       " 50  2019                  Comali                         Rithika Mohan   \n",
       " 51  2021             Mumbai Saga                             Seema Rao   \n",
       " 52  2021               Mosagallu                                   Anu   \n",
       " 53  2022            Hey Sinamika                            Malarvizhi   \n",
       " 54  2022           Karungaapiyam                                   TBA   \n",
       " 55  2022                  Ghosty                                   TBA   \n",
       " 56  2022                     Uma                                   TBA   \n",
       " 57   TBA                Indian 2                                   TBA   \n",
       " \n",
       "      Actor/Actress  \n",
       " 0   Kajal Aggarwal  \n",
       " 1   Kajal Aggarwal  \n",
       " 2   Kajal Aggarwal  \n",
       " 3   Kajal Aggarwal  \n",
       " 4   Kajal Aggarwal  \n",
       " 5   Kajal Aggarwal  \n",
       " 6   Kajal Aggarwal  \n",
       " 7   Kajal Aggarwal  \n",
       " 8   Kajal Aggarwal  \n",
       " 9   Kajal Aggarwal  \n",
       " 10  Kajal Aggarwal  \n",
       " 11  Kajal Aggarwal  \n",
       " 12  Kajal Aggarwal  \n",
       " 13  Kajal Aggarwal  \n",
       " 14  Kajal Aggarwal  \n",
       " 15  Kajal Aggarwal  \n",
       " 16  Kajal Aggarwal  \n",
       " 17  Kajal Aggarwal  \n",
       " 18  Kajal Aggarwal  \n",
       " 19  Kajal Aggarwal  \n",
       " 20  Kajal Aggarwal  \n",
       " 21  Kajal Aggarwal  \n",
       " 22  Kajal Aggarwal  \n",
       " 23  Kajal Aggarwal  \n",
       " 24  Kajal Aggarwal  \n",
       " 25  Kajal Aggarwal  \n",
       " 26  Kajal Aggarwal  \n",
       " 27  Kajal Aggarwal  \n",
       " 28  Kajal Aggarwal  \n",
       " 29  Kajal Aggarwal  \n",
       " 30  Kajal Aggarwal  \n",
       " 31  Kajal Aggarwal  \n",
       " 32  Kajal Aggarwal  \n",
       " 33  Kajal Aggarwal  \n",
       " 34  Kajal Aggarwal  \n",
       " 35  Kajal Aggarwal  \n",
       " 36  Kajal Aggarwal  \n",
       " 37  Kajal Aggarwal  \n",
       " 38  Kajal Aggarwal  \n",
       " 39  Kajal Aggarwal  \n",
       " 40  Kajal Aggarwal  \n",
       " 41  Kajal Aggarwal  \n",
       " 42  Kajal Aggarwal  \n",
       " 43  Kajal Aggarwal  \n",
       " 44  Kajal Aggarwal  \n",
       " 45  Kajal Aggarwal  \n",
       " 46  Kajal Aggarwal  \n",
       " 47  Kajal Aggarwal  \n",
       " 48  Kajal Aggarwal  \n",
       " 49  Kajal Aggarwal  \n",
       " 50  Kajal Aggarwal  \n",
       " 51  Kajal Aggarwal  \n",
       " 52  Kajal Aggarwal  \n",
       " 53  Kajal Aggarwal  \n",
       " 54  Kajal Aggarwal  \n",
       " 55  Kajal Aggarwal  \n",
       " 56  Kajal Aggarwal  \n",
       " 57  Kajal Aggarwal  ,\n",
       "     Year                             Title                   Role  \\\n",
       " 0   1994                   Ammayi Kaapuram                    NaN   \n",
       " 1   1994                      Akkum Bakkum                    NaN   \n",
       " 2   1994                      Aavaaragaadu                    NaN   \n",
       " 3   1994                         Yamaleela                  Suraj   \n",
       " 4   1994                      Pittala Dora                    NaN   \n",
       " 5   1995                     Adalla Majaka  Krishnamurthy \"Kittu\"   \n",
       " 6   1995                     Ghatotkachudu                  Ranga   \n",
       " 7   1996                              Ooha                   Bosu   \n",
       " 8   1996                            Family                    NaN   \n",
       " 9   1997                 Circus Sattipandu             Sattipandu   \n",
       " 10  1997                   Kurralla Rajyam                    NaN   \n",
       " 11  1997  High Class Atha Low Class Alludu                    NaN   \n",
       " 12  1997          Kaliyugamlo Gandaragolam            Chiranjeevi   \n",
       " 13  1997             Aashadam Pelli Koduku                    NaN   \n",
       " 14  1999                     Asala Sandadi                    NaN   \n",
       " 15  2007           Gundamma Gaari Manavadu            Yedukondalu   \n",
       " 16  2008                          Gajibiji                    NaN   \n",
       " 17  2008   Tinnama Padukunnama, Tellarinda                Somberi   \n",
       " 18  2013              Ali Baba Okade Donga                    NaN   \n",
       " 19  2021                  Lawyer Viswanath       Lawyer Viswanath   \n",
       " \n",
       "    Actor/Actress  \n",
       " 0            Ali  \n",
       " 1            Ali  \n",
       " 2            Ali  \n",
       " 3            Ali  \n",
       " 4            Ali  \n",
       " 5            Ali  \n",
       " 6            Ali  \n",
       " 7            Ali  \n",
       " 8            Ali  \n",
       " 9            Ali  \n",
       " 10           Ali  \n",
       " 11           Ali  \n",
       " 12           Ali  \n",
       " 13           Ali  \n",
       " 14           Ali  \n",
       " 15           Ali  \n",
       " 16           Ali  \n",
       " 17           Ali  \n",
       " 18           Ali  \n",
       " 19           Ali  ,\n",
       "     Year                     Title                   Role Actor/Actress\n",
       " 0   1970           The Evil Within                    NaN   Zeenat Aman\n",
       " 1   1971                   Hungama                    NaN   Zeenat Aman\n",
       " 2   1971                   Hulchul                  Neena   Zeenat Aman\n",
       " 3   1971    Hare Rama Hare Krishna  Jasbir Jaiswal/Janice   Zeenat Aman\n",
       " 4   1973         Yaadon Ki Baaraat                 Sunita   Zeenat Aman\n",
       " ..   ...                       ...                    ...           ...\n",
       " 85  2016            Black Currency                    NaN   Zeenat Aman\n",
       " 86  2017           Sallu Ki Shaadi         Sallu's mother   Zeenat Aman\n",
       " 87  2017     Love Life & Screw Ups                 Joanna   Zeenat Aman\n",
       " 88  2019                   Panipat          Sakeena Begum   Zeenat Aman\n",
       " 89   TBA  Margaon: The Closed File           Unnamed role   Zeenat Aman\n",
       " \n",
       " [90 rows x 4 columns],\n",
       "    Year       Title     Role          Actor/Actress\n",
       " 0  1987  Trimurtulu  Himself  Nandamuri Balakrishna]"
      ]
     },
     "execution_count": 34,
     "metadata": {},
     "output_type": "execute_result"
    }
   ],
   "source": [
    "# here we have the names of few actor/actress which we have taken in our data.\n",
    "# we are adding the actor/actress column in the dataframe. \n",
    "dfs = DataFrames(Table_urls)\n",
    "for df, title in zip(dfs, title_tags) :\n",
    "    df['Actor/Actress'] = title\n",
    "dfs"
   ]
  },
  {
   "cell_type": "code",
   "execution_count": 35,
   "metadata": {
    "id": "9Ts6jJXP08HH",
    "outputId": "75f31908-c537-4944-f740-d2ffa47c5b05"
   },
   "outputs": [
    {
     "data": {
      "text/html": [
       "<div>\n",
       "<style scoped>\n",
       "    .dataframe tbody tr th:only-of-type {\n",
       "        vertical-align: middle;\n",
       "    }\n",
       "\n",
       "    .dataframe tbody tr th {\n",
       "        vertical-align: top;\n",
       "    }\n",
       "\n",
       "    .dataframe thead th {\n",
       "        text-align: right;\n",
       "    }\n",
       "</style>\n",
       "<table border=\"1\" class=\"dataframe\">\n",
       "  <thead>\n",
       "    <tr style=\"text-align: right;\">\n",
       "      <th></th>\n",
       "      <th>Year</th>\n",
       "      <th>Title</th>\n",
       "      <th>Role</th>\n",
       "      <th>Actor/Actress</th>\n",
       "    </tr>\n",
       "  </thead>\n",
       "  <tbody>\n",
       "    <tr>\n",
       "      <th>0</th>\n",
       "      <td>2003</td>\n",
       "      <td>Jism</td>\n",
       "      <td>Kabir Lal</td>\n",
       "      <td>John Abraham</td>\n",
       "    </tr>\n",
       "    <tr>\n",
       "      <th>1</th>\n",
       "      <td>2003</td>\n",
       "      <td>Saaya</td>\n",
       "      <td>Dr. Aakash Bhatnagar</td>\n",
       "      <td>John Abraham</td>\n",
       "    </tr>\n",
       "    <tr>\n",
       "      <th>2</th>\n",
       "      <td>2003</td>\n",
       "      <td>Paap</td>\n",
       "      <td>Inspector Shiven Verma</td>\n",
       "      <td>John Abraham</td>\n",
       "    </tr>\n",
       "    <tr>\n",
       "      <th>3</th>\n",
       "      <td>2004</td>\n",
       "      <td>Aetbaar</td>\n",
       "      <td>Aryan Trivedi</td>\n",
       "      <td>John Abraham</td>\n",
       "    </tr>\n",
       "    <tr>\n",
       "      <th>4</th>\n",
       "      <td>2004</td>\n",
       "      <td>Lakeer</td>\n",
       "      <td>Sahil Mishra</td>\n",
       "      <td>John Abraham</td>\n",
       "    </tr>\n",
       "    <tr>\n",
       "      <th>...</th>\n",
       "      <td>...</td>\n",
       "      <td>...</td>\n",
       "      <td>...</td>\n",
       "      <td>...</td>\n",
       "    </tr>\n",
       "    <tr>\n",
       "      <th>86</th>\n",
       "      <td>2017</td>\n",
       "      <td>Sallu Ki Shaadi</td>\n",
       "      <td>Sallu's mother</td>\n",
       "      <td>Zeenat Aman</td>\n",
       "    </tr>\n",
       "    <tr>\n",
       "      <th>87</th>\n",
       "      <td>2017</td>\n",
       "      <td>Love Life &amp; Screw Ups</td>\n",
       "      <td>Joanna</td>\n",
       "      <td>Zeenat Aman</td>\n",
       "    </tr>\n",
       "    <tr>\n",
       "      <th>88</th>\n",
       "      <td>2019</td>\n",
       "      <td>Panipat</td>\n",
       "      <td>Sakeena Begum</td>\n",
       "      <td>Zeenat Aman</td>\n",
       "    </tr>\n",
       "    <tr>\n",
       "      <th>89</th>\n",
       "      <td>TBA</td>\n",
       "      <td>Margaon: The Closed File</td>\n",
       "      <td>Unnamed role</td>\n",
       "      <td>Zeenat Aman</td>\n",
       "    </tr>\n",
       "    <tr>\n",
       "      <th>0</th>\n",
       "      <td>1987</td>\n",
       "      <td>Trimurtulu</td>\n",
       "      <td>Himself</td>\n",
       "      <td>Nandamuri Balakrishna</td>\n",
       "    </tr>\n",
       "  </tbody>\n",
       "</table>\n",
       "<p>221 rows × 4 columns</p>\n",
       "</div>"
      ],
      "text/plain": [
       "    Year                     Title                    Role  \\\n",
       "0   2003                      Jism               Kabir Lal   \n",
       "1   2003                     Saaya    Dr. Aakash Bhatnagar   \n",
       "2   2003                      Paap  Inspector Shiven Verma   \n",
       "3   2004                   Aetbaar           Aryan Trivedi   \n",
       "4   2004                    Lakeer            Sahil Mishra   \n",
       "..   ...                       ...                     ...   \n",
       "86  2017           Sallu Ki Shaadi          Sallu's mother   \n",
       "87  2017     Love Life & Screw Ups                  Joanna   \n",
       "88  2019                   Panipat           Sakeena Begum   \n",
       "89   TBA  Margaon: The Closed File            Unnamed role   \n",
       "0   1987                Trimurtulu                 Himself   \n",
       "\n",
       "            Actor/Actress  \n",
       "0            John Abraham  \n",
       "1            John Abraham  \n",
       "2            John Abraham  \n",
       "3            John Abraham  \n",
       "4            John Abraham  \n",
       "..                    ...  \n",
       "86            Zeenat Aman  \n",
       "87            Zeenat Aman  \n",
       "88            Zeenat Aman  \n",
       "89            Zeenat Aman  \n",
       "0   Nandamuri Balakrishna  \n",
       "\n",
       "[221 rows x 4 columns]"
      ]
     },
     "execution_count": 35,
     "metadata": {},
     "output_type": "execute_result"
    }
   ],
   "source": [
    "Table_contents = pd.concat(dfs) # we have concatinate all dataframes using pd.concat()\n",
    "Table_contents"
   ]
  },
  {
   "cell_type": "markdown",
   "metadata": {
    "id": "JA2ZUbW408HI"
   },
   "source": [
    "## Now we have all the required information that we wish to get from the web page"
   ]
  },
  {
   "cell_type": "code",
   "execution_count": 36,
   "metadata": {
    "id": "2t6zamkj08HI",
    "outputId": "4d7861aa-060f-4297-d3ae-ea7f25c93614"
   },
   "outputs": [
    {
     "data": {
      "text/html": [
       "<div>\n",
       "<style scoped>\n",
       "    .dataframe tbody tr th:only-of-type {\n",
       "        vertical-align: middle;\n",
       "    }\n",
       "\n",
       "    .dataframe tbody tr th {\n",
       "        vertical-align: top;\n",
       "    }\n",
       "\n",
       "    .dataframe thead th {\n",
       "        text-align: right;\n",
       "    }\n",
       "</style>\n",
       "<table border=\"1\" class=\"dataframe\">\n",
       "  <thead>\n",
       "    <tr style=\"text-align: right;\">\n",
       "      <th></th>\n",
       "      <th>Actor/Actress_Name</th>\n",
       "      <th>Url_Of_Profiles</th>\n",
       "      <th>Images</th>\n",
       "    </tr>\n",
       "  </thead>\n",
       "  <tbody>\n",
       "    <tr>\n",
       "      <th>0</th>\n",
       "      <td>John Abraham</td>\n",
       "      <td>https://en.wikipedia.org//wiki/John_Abraham_fi...</td>\n",
       "      <td>//upload.wikimedia.org/wikipedia/commons/thumb...</td>\n",
       "    </tr>\n",
       "    <tr>\n",
       "      <th>1</th>\n",
       "      <td>Kajal Aggarwal</td>\n",
       "      <td>https://en.wikipedia.org//wiki/Kajal_Aggarwal_...</td>\n",
       "      <td>//upload.wikimedia.org/wikipedia/commons/thumb...</td>\n",
       "    </tr>\n",
       "    <tr>\n",
       "      <th>2</th>\n",
       "      <td>Samantha Ruth Prabhu</td>\n",
       "      <td>https://en.wikipedia.org//wiki/Samantha_Ruth_P...</td>\n",
       "      <td>//upload.wikimedia.org/wikipedia/commons/thumb...</td>\n",
       "    </tr>\n",
       "    <tr>\n",
       "      <th>3</th>\n",
       "      <td>Ali</td>\n",
       "      <td>https://en.wikipedia.org//wiki/Ali_filmography</td>\n",
       "      <td>None</td>\n",
       "    </tr>\n",
       "    <tr>\n",
       "      <th>4</th>\n",
       "      <td>Zeenat Aman</td>\n",
       "      <td>https://en.wikipedia.org//wiki/Zeenat_Aman_fil...</td>\n",
       "      <td>//upload.wikimedia.org/wikipedia/commons/thumb...</td>\n",
       "    </tr>\n",
       "    <tr>\n",
       "      <th>...</th>\n",
       "      <td>...</td>\n",
       "      <td>...</td>\n",
       "      <td>...</td>\n",
       "    </tr>\n",
       "    <tr>\n",
       "      <th>182</th>\n",
       "      <td>Seeman</td>\n",
       "      <td>https://en.wikipedia.org//wiki/Seeman_filmography</td>\n",
       "      <td>None</td>\n",
       "    </tr>\n",
       "    <tr>\n",
       "      <th>183</th>\n",
       "      <td>Aparna Sen</td>\n",
       "      <td>https://en.wikipedia.org//wiki/Aparna_Sen_film...</td>\n",
       "      <td>None</td>\n",
       "    </tr>\n",
       "    <tr>\n",
       "      <th>184</th>\n",
       "      <td>Jisshu Sengupta</td>\n",
       "      <td>https://en.wikipedia.org//wiki/Jisshu_Sengupta...</td>\n",
       "      <td>//upload.wikimedia.org/wikipedia/commons/thumb...</td>\n",
       "    </tr>\n",
       "    <tr>\n",
       "      <th>185</th>\n",
       "      <td>Vijay Sethupathi</td>\n",
       "      <td>https://en.wikipedia.org//wiki/Vijay_Sethupath...</td>\n",
       "      <td>//upload.wikimedia.org/wikipedia/commons/thumb...</td>\n",
       "    </tr>\n",
       "    <tr>\n",
       "      <th>186</th>\n",
       "      <td>Naseeruddin Shah</td>\n",
       "      <td>https://en.wikipedia.org//wiki/Naseeruddin_Sha...</td>\n",
       "      <td>//upload.wikimedia.org/wikipedia/commons/thumb...</td>\n",
       "    </tr>\n",
       "  </tbody>\n",
       "</table>\n",
       "<p>187 rows × 3 columns</p>\n",
       "</div>"
      ],
      "text/plain": [
       "        Actor/Actress_Name                                    Url_Of_Profiles  \\\n",
       "0            John Abraham   https://en.wikipedia.org//wiki/John_Abraham_fi...   \n",
       "1          Kajal Aggarwal   https://en.wikipedia.org//wiki/Kajal_Aggarwal_...   \n",
       "2    Samantha Ruth Prabhu   https://en.wikipedia.org//wiki/Samantha_Ruth_P...   \n",
       "3                     Ali      https://en.wikipedia.org//wiki/Ali_filmography   \n",
       "4             Zeenat Aman   https://en.wikipedia.org//wiki/Zeenat_Aman_fil...   \n",
       "..                     ...                                                ...   \n",
       "182                Seeman   https://en.wikipedia.org//wiki/Seeman_filmography   \n",
       "183            Aparna Sen   https://en.wikipedia.org//wiki/Aparna_Sen_film...   \n",
       "184       Jisshu Sengupta   https://en.wikipedia.org//wiki/Jisshu_Sengupta...   \n",
       "185      Vijay Sethupathi   https://en.wikipedia.org//wiki/Vijay_Sethupath...   \n",
       "186      Naseeruddin Shah   https://en.wikipedia.org//wiki/Naseeruddin_Sha...   \n",
       "\n",
       "                                                Images  \n",
       "0    //upload.wikimedia.org/wikipedia/commons/thumb...  \n",
       "1    //upload.wikimedia.org/wikipedia/commons/thumb...  \n",
       "2    //upload.wikimedia.org/wikipedia/commons/thumb...  \n",
       "3                                                 None  \n",
       "4    //upload.wikimedia.org/wikipedia/commons/thumb...  \n",
       "..                                                 ...  \n",
       "182                                               None  \n",
       "183                                               None  \n",
       "184  //upload.wikimedia.org/wikipedia/commons/thumb...  \n",
       "185  //upload.wikimedia.org/wikipedia/commons/thumb...  \n",
       "186  //upload.wikimedia.org/wikipedia/commons/thumb...  \n",
       "\n",
       "[187 rows x 3 columns]"
      ]
     },
     "execution_count": 36,
     "metadata": {},
     "output_type": "execute_result"
    }
   ],
   "source": [
    "# The first data frame is\n",
    "Filmography_df"
   ]
  },
  {
   "cell_type": "code",
   "execution_count": 37,
   "metadata": {
    "id": "CU9MVQLg08HI",
    "outputId": "e0f2379c-f3e4-4c73-ce8f-739d580f075a"
   },
   "outputs": [
    {
     "data": {
      "text/html": [
       "<div>\n",
       "<style scoped>\n",
       "    .dataframe tbody tr th:only-of-type {\n",
       "        vertical-align: middle;\n",
       "    }\n",
       "\n",
       "    .dataframe tbody tr th {\n",
       "        vertical-align: top;\n",
       "    }\n",
       "\n",
       "    .dataframe thead th {\n",
       "        text-align: right;\n",
       "    }\n",
       "</style>\n",
       "<table border=\"1\" class=\"dataframe\">\n",
       "  <thead>\n",
       "    <tr style=\"text-align: right;\">\n",
       "      <th></th>\n",
       "      <th>Year</th>\n",
       "      <th>Title</th>\n",
       "      <th>Role</th>\n",
       "      <th>Actor/Actress</th>\n",
       "    </tr>\n",
       "  </thead>\n",
       "  <tbody>\n",
       "    <tr>\n",
       "      <th>0</th>\n",
       "      <td>2003</td>\n",
       "      <td>Jism</td>\n",
       "      <td>Kabir Lal</td>\n",
       "      <td>John Abraham</td>\n",
       "    </tr>\n",
       "    <tr>\n",
       "      <th>1</th>\n",
       "      <td>2003</td>\n",
       "      <td>Saaya</td>\n",
       "      <td>Dr. Aakash Bhatnagar</td>\n",
       "      <td>John Abraham</td>\n",
       "    </tr>\n",
       "    <tr>\n",
       "      <th>2</th>\n",
       "      <td>2003</td>\n",
       "      <td>Paap</td>\n",
       "      <td>Inspector Shiven Verma</td>\n",
       "      <td>John Abraham</td>\n",
       "    </tr>\n",
       "    <tr>\n",
       "      <th>3</th>\n",
       "      <td>2004</td>\n",
       "      <td>Aetbaar</td>\n",
       "      <td>Aryan Trivedi</td>\n",
       "      <td>John Abraham</td>\n",
       "    </tr>\n",
       "    <tr>\n",
       "      <th>4</th>\n",
       "      <td>2004</td>\n",
       "      <td>Lakeer</td>\n",
       "      <td>Sahil Mishra</td>\n",
       "      <td>John Abraham</td>\n",
       "    </tr>\n",
       "    <tr>\n",
       "      <th>...</th>\n",
       "      <td>...</td>\n",
       "      <td>...</td>\n",
       "      <td>...</td>\n",
       "      <td>...</td>\n",
       "    </tr>\n",
       "    <tr>\n",
       "      <th>86</th>\n",
       "      <td>2017</td>\n",
       "      <td>Sallu Ki Shaadi</td>\n",
       "      <td>Sallu's mother</td>\n",
       "      <td>Zeenat Aman</td>\n",
       "    </tr>\n",
       "    <tr>\n",
       "      <th>87</th>\n",
       "      <td>2017</td>\n",
       "      <td>Love Life &amp; Screw Ups</td>\n",
       "      <td>Joanna</td>\n",
       "      <td>Zeenat Aman</td>\n",
       "    </tr>\n",
       "    <tr>\n",
       "      <th>88</th>\n",
       "      <td>2019</td>\n",
       "      <td>Panipat</td>\n",
       "      <td>Sakeena Begum</td>\n",
       "      <td>Zeenat Aman</td>\n",
       "    </tr>\n",
       "    <tr>\n",
       "      <th>89</th>\n",
       "      <td>TBA</td>\n",
       "      <td>Margaon: The Closed File</td>\n",
       "      <td>Unnamed role</td>\n",
       "      <td>Zeenat Aman</td>\n",
       "    </tr>\n",
       "    <tr>\n",
       "      <th>0</th>\n",
       "      <td>1987</td>\n",
       "      <td>Trimurtulu</td>\n",
       "      <td>Himself</td>\n",
       "      <td>Nandamuri Balakrishna</td>\n",
       "    </tr>\n",
       "  </tbody>\n",
       "</table>\n",
       "<p>221 rows × 4 columns</p>\n",
       "</div>"
      ],
      "text/plain": [
       "    Year                     Title                    Role  \\\n",
       "0   2003                      Jism               Kabir Lal   \n",
       "1   2003                     Saaya    Dr. Aakash Bhatnagar   \n",
       "2   2003                      Paap  Inspector Shiven Verma   \n",
       "3   2004                   Aetbaar           Aryan Trivedi   \n",
       "4   2004                    Lakeer            Sahil Mishra   \n",
       "..   ...                       ...                     ...   \n",
       "86  2017           Sallu Ki Shaadi          Sallu's mother   \n",
       "87  2017     Love Life & Screw Ups                  Joanna   \n",
       "88  2019                   Panipat           Sakeena Begum   \n",
       "89   TBA  Margaon: The Closed File            Unnamed role   \n",
       "0   1987                Trimurtulu                 Himself   \n",
       "\n",
       "            Actor/Actress  \n",
       "0            John Abraham  \n",
       "1            John Abraham  \n",
       "2            John Abraham  \n",
       "3            John Abraham  \n",
       "4            John Abraham  \n",
       "..                    ...  \n",
       "86            Zeenat Aman  \n",
       "87            Zeenat Aman  \n",
       "88            Zeenat Aman  \n",
       "89            Zeenat Aman  \n",
       "0   Nandamuri Balakrishna  \n",
       "\n",
       "[221 rows x 4 columns]"
      ]
     },
     "execution_count": 37,
     "metadata": {},
     "output_type": "execute_result"
    }
   ],
   "source": [
    "# The Second data  frame is\n",
    "Table_contents"
   ]
  },
  {
   "cell_type": "markdown",
   "metadata": {
    "id": "z1x1LlSK08HI"
   },
   "source": [
    "## Here we are going to write all the above used functions in a single cell\n",
    "\n"
   ]
  },
  {
   "cell_type": "code",
   "execution_count": null,
   "metadata": {
    "id": "lcbHjL_Y08HJ"
   },
   "outputs": [],
   "source": [
    "def Requested_page(url):                  #This is the function to get BeautifulSoup object for any given URL\n",
    "    response = requests.get(url)\n",
    "    if response.status_code != 200:\n",
    "        raise Exception('Failed to load page {}'.format(url))\n",
    "    # Parse the `response' text using BeautifulSoup\n",
    "    doc = BeautifulSoup(response.text, 'html.parser')\n",
    "    return doc\n",
    "\n",
    "\n",
    "# This is the fuction to get all the images inside a particular Filmography Url\n",
    "def Filmography_Images(Filmography): \n",
    "    Images = []\n",
    "    for url in Filmography:\n",
    "        response1 = requests.get(url)\n",
    "        topic_doc1 = BeautifulSoup(response1.text,'html.parser')   # Parse using Beautiful Soup\n",
    "        a1=topic_doc1.find_all('img')\n",
    "        b1=a1[0]['src']\n",
    "        b2= a1[1]['src']\n",
    "        if \"//upload.wikimedia.org/wikipedia/commons/thumb/\" in b1:\n",
    "            Images.append(b1)\n",
    "        elif  \"//upload.wikimedia.org/wikipedia/commons/thumb/\" in b2 :\n",
    "            Images.append(b2)\n",
    "        else:\n",
    "            Images.append(\"image not available\")\n",
    "    return Images\n",
    "\n",
    "\n",
    "# get_docs fuction will reterive all the tables which has class \"Wikitable\"\n",
    "def get_docs(films_urls):\n",
    "    doc_list = []\n",
    "    for url in films_urls:\n",
    "        # Fetch and parse url's using Bs4\n",
    "        response = requests.get(url)\n",
    "        response.status_code\n",
    "        if response.status_code == 200 : # check the status_code \n",
    "            topic_doc = BeautifulSoup(response.text,'html.parser')\n",
    "            body_tags = topic_doc.find_all('table',{'class' : 'wikitable'})\n",
    "            doc_list.append(body_tags)\n",
    "        else :\n",
    "            print('Failed to load page {}'.format(url)) # if status_code is not equal to 200\n",
    "    return doc_list\n",
    "\n",
    "\n",
    "\n",
    "# we have written a function to get DataFrames of a table\n",
    "# we will covert the given Table_urls in Pandas Dataframe\n",
    "def DataFrames(Tables):\n",
    "    dfs = []\n",
    "    for i in Tables:\n",
    "        df=pd.read_html(str(i))\n",
    "        df=pd.DataFrame(df[1])\n",
    "        df=df[df.columns[0:3]]\n",
    "        dfs.append(df)\n",
    "    return dfs\n",
    "    "
   ]
  },
  {
   "cell_type": "markdown",
   "metadata": {
    "id": "LER682N008HJ"
   },
   "source": [
    "### This is exactly what our desired output was when we began this project.\n",
    "> Let us now save this DataFrame as a CSV file"
   ]
  },
  {
   "cell_type": "code",
   "execution_count": null,
   "metadata": {
    "id": "WTHth6lJ08HK",
    "outputId": "985aecb2-a36b-48db-d611-1b766a8c3277"
   },
   "outputs": [
    {
     "name": "stdout",
     "output_type": "stream",
     "text": [
      "file converted successfully\n"
     ]
    }
   ],
   "source": [
    "Filmography_df.to_csv('Filmographies.csv', index=None)   #Converting the Filmography Dataframe to a CSV File\n",
    "print('file converted successfully')"
   ]
  },
  {
   "cell_type": "code",
   "execution_count": null,
   "metadata": {
    "id": "R-bHxOSa08HK",
    "outputId": "657b2804-fe8e-4f36-eb23-736e9beeef92"
   },
   "outputs": [
    {
     "name": "stdout",
     "output_type": "stream",
     "text": [
      "file converted successfully\n"
     ]
    }
   ],
   "source": [
    "Table_contents.to_csv('Data-inside-Filmographies.csv')     #Converting the Table Contents Dataframe to a CSV File\n",
    "print('file converted successfully')"
   ]
  },
  {
   "cell_type": "markdown",
   "metadata": {
    "id": "xuElZk1G08HK"
   },
   "source": [
    "![](https://nimbus-screenshots.s3.amazonaws.com/s/4bdcc119a356d0d5ec13d81c322452a5.png)"
   ]
  },
  {
   "cell_type": "markdown",
   "metadata": {
    "id": "XZw2e_0G08HK"
   },
   "source": [
    "## Summary"
   ]
  },
  {
   "cell_type": "markdown",
   "metadata": {
    "id": "rV3Vz5o208HK"
   },
   "source": [
    "- At the very initial stage I have checked all the Filmographies on the :[Bollywood Filmography](https://en.wikipedia.org/wiki/Category:Indian_filmographies) page manually.\n",
    "\n",
    "\n",
    "\n",
    "\n",
    "\n",
    "- Then after I have collected all the Filmography titles, url's and Images.\n",
    "\n",
    "\n",
    "\n",
    "\n",
    "\n",
    "- while getting all the Filmographies I was getting some extra information and could not able to get a common class out of that, then I have take a common word \"filmography\" in tag.text.\n",
    "\n",
    "\n",
    "\n",
    "\n",
    "- Then I decided to collect the tables from each Filmography url's which contains Title,Year,Role,languages,Notes,References. but some of them has missing data, so I have taken Title, Year and Role column which is commom in all the urls.\n",
    "\n",
    "\n",
    "\n",
    "\n",
    "- Then While Fetching the tables many of the Urls containing different DataFrames and they does not have any common attribute, so I went through some of the urls manually and checked for common DataFrames and taken out those DataFrames.\n",
    "\n",
    "\n",
    "\n",
    "\n",
    "\n",
    "- The DataFrames which we have taken out we haven taken the common Columns, i.e. Title, Year and Role From it.\n",
    " \n",
    " \n",
    " \n",
    " \n",
    "\n",
    "- Then finally we have managed to `parse` Filmographies.\n",
    "\n",
    "\n",
    "\n",
    "\n",
    "- At last we have saved all the data into CSV files using which we can further get aswers to a lot of questions."
   ]
  },
  {
   "cell_type": "markdown",
   "metadata": {
    "id": "4b-HE9jA08HL"
   },
   "source": [
    "## Let us look at the steps that we took from start to finish :\n",
    "\n",
    "1. We downloaded the webpage using requests\n",
    "\n",
    "2. We parsed the HTML source code using BeautifulSoup library and extracted the desired infromation, i.e.\n",
    "\n",
    "- The names of 'Filmographies'\n",
    "- URLs of each of those Filmographies\n",
    "- Images of each of those Filmographies\n",
    "3. We created a DataFrame using Pandas for Python Lists that we derived from the previous step\n",
    "\n",
    "4. We extracted detailed information for some Filmography among the list of Filmographies, such as :\n",
    "\n",
    "- Year of release\n",
    "- Title of movie\n",
    "- Role in movie\n",
    "- Actor/Actress name\n",
    "5. We then created a Python Dictionary to save all these details\n",
    "\n",
    "6. We converted the python dictionary into Pandas DataFrames\n",
    "\n",
    "7. Now that we have 2 DataFrames\n",
    "\n",
    "8. we have coverted the DataFrames into CSV file, which was the goal of our project."
   ]
  },
  {
   "cell_type": "markdown",
   "metadata": {
    "id": "lFtZJteP08HL"
   },
   "source": [
    "## Future Work"
   ]
  },
  {
   "cell_type": "markdown",
   "metadata": {
    "id": "pOn1a7HB08HL"
   },
   "source": [
    "We can now work forward to explore this data more and more to fetch meaningful information out of it.\n",
    "\n",
    "With all the insights , and further analysis into the data, we can have answers to a lot of questions like -\n",
    "\n",
    "- Which actor/actress has the highest numbers of movies?\n",
    "- which actor has the highest number of movies as a director?\n",
    "- which actor has made the highest number of movies in a particular year?\n",
    "- we will get all the tables from each of the urls,\n",
    "And the list goes on..\n",
    "\n",
    ">In the future, I would like to work to make this DataSet even richer with more data from other lists created by Filmographies I would then like to work on analysing the entire data, to know a lot more about movies than I currently know."
   ]
  },
  {
   "cell_type": "markdown",
   "metadata": {
    "id": "yC7YAWQJ08HL"
   },
   "source": [
    "## References\n",
    "[1] Python offical documentation. https://docs.python.org/3/\n",
    "\n",
    "[2] Beautiful Soup documentation. https://www.crummy.com/software/BeautifulSoup/bs4/doc/\n",
    "\n",
    "[3] Aakash N S, Introduction to Web Scraping, 2021. https://jovian.ai/aakashns/python-web-scraping-and-rest-api\n",
    "\n",
    "[4] Pandas library documentation. https://pandas.pydata.org/docs/\n",
    "\n",
    "[5] Filmography Website.  https://en.wikipedia.org/wiki/Category:Indian_filmographies\n",
    "\n",
    "[6] Working with Jupyter Notebook https://www.youtube.com/watch?v=lNPofGL28lU and https://towardsdatascience.com/write-markdown-latex-in-the-jupyter-notebook-10985edb91fd"
   ]
  },
  {
   "cell_type": "code",
   "execution_count": null,
   "metadata": {
    "id": "MxmCAK0E08HL",
    "outputId": "1f62531e-e64f-479b-9558-3b7b4d2c2e97",
    "scrolled": true
   },
   "outputs": [
    {
     "data": {
      "application/javascript": [
       "window.require && require([\"base/js/namespace\"],function(Jupyter){Jupyter.notebook.save_checkpoint()})"
      ],
      "text/plain": [
       "<IPython.core.display.Javascript object>"
      ]
     },
     "metadata": {},
     "output_type": "display_data"
    },
    {
     "name": "stdout",
     "output_type": "stream",
     "text": [
      "[jovian] Updating notebook \"deepakkumawat2120/web-scraping-bollywood-filmographies-project\" on https://jovian.ai\u001b[0m\n",
      "[jovian] Uploading additional files...\u001b[0m\n",
      "[jovian] Committed successfully! https://jovian.ai/deepakkumawat2120/web-scraping-bollywood-filmographies-project\u001b[0m\n"
     ]
    },
    {
     "data": {
      "text/plain": [
       "'https://jovian.ai/deepakkumawat2120/web-scraping-bollywood-filmographies-project'"
      ]
     },
     "execution_count": 98,
     "metadata": {},
     "output_type": "execute_result"
    }
   ],
   "source": [
    "jovian.commit(files=['Filmographies.csv', 'Data-inside-Filmographies.csv'])"
   ]
  }
 ],
 "metadata": {
  "colab": {
   "name": "WEB-SCRAPING-BOLLYWOOD-FILMOGRAPHIES-PROJECT.ipynb",
   "provenance": []
  },
  "kernelspec": {
   "display_name": "Python 3 (ipykernel)",
   "language": "python",
   "name": "python3"
  },
  "language_info": {
   "codemirror_mode": {
    "name": "ipython",
    "version": 3
   },
   "file_extension": ".py",
   "mimetype": "text/x-python",
   "name": "python",
   "nbconvert_exporter": "python",
   "pygments_lexer": "ipython3",
   "version": "3.9.6"
  }
 },
 "nbformat": 4,
 "nbformat_minor": 1
}
